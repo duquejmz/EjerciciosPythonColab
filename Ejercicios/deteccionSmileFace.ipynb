{
 "cells": [
  {
   "cell_type": "code",
   "execution_count": 1,
   "metadata": {},
   "outputs": [],
   "source": [
    "import cv2\n",
    "import datetime\n",
    "import os"
   ]
  },
  {
   "cell_type": "code",
   "execution_count": 2,
   "metadata": {},
   "outputs": [],
   "source": [
    "face_cascade = cv2.CascadeClassifier(cv2.data.haarcascades + 'haarcascade_frontalface_default.xml')\n",
    "eye_cascade = cv2.CascadeClassifier(cv2.data.haarcascades +'haarcascade_eye.xml')\n",
    "smile_cascade = cv2.CascadeClassifier(cv2.data.haarcascades +'haarcascade_smile.xml')"
   ]
  },
  {
   "cell_type": "code",
   "execution_count": 3,
   "metadata": {},
   "outputs": [],
   "source": [
    "photo_dir = \"fotos_capturadas\"\n",
    "os.makedirs(photo_dir, exist_ok=True)"
   ]
  },
  {
   "cell_type": "code",
   "execution_count": 6,
   "metadata": {},
   "outputs": [],
   "source": [
    "# Función para detectar rostros y sonrisas\n",
    "def detect(gray, frame):\n",
    "    original_frame = frame.copy()  # Copia del frame sin dibujos\n",
    "\n",
    "    faces = face_cascade.detectMultiScale(gray, scaleFactor=1.3, minNeighbors=5, minSize=(30, 30))  # Detecta rostros\n",
    "    for i, (x, y, w, h) in enumerate(faces, start=1):\n",
    "        roi_gray = gray[y:y + h, x:x + w]\n",
    "        roi_color = frame[y:y + h, x:x + w]\n",
    "\n",
    "        # Detectar sonrisas dentro del rostro detectado\n",
    "        smiles = smile_cascade.detectMultiScale(roi_gray, scaleFactor=1.7, minNeighbors=25, minSize=(25, 25))\n",
    "        for j, (sx, sy, sw, sh) in enumerate(smiles, start=1):\n",
    "            # Construir la ruta completa para guardar la foto\n",
    "            filename = f\"foto_{datetime.datetime.now().strftime('%Y%m%d_%H%M%S')}.png\"\n",
    "            filepath = os.path.join(photo_dir, filename)  # Ruta completa\n",
    "            \n",
    "            # Guardar la imagen SIN rectángulos ni textos\n",
    "            cv2.imwrite(filepath, original_frame)\n",
    "            print(f\"Foto guardada en: {filepath}\")\n",
    "\n",
    "            # Dibujar rectángulos y etiquetas en la imagen\n",
    "            cv2.rectangle(frame, (x, y), (x + w, y + h), (255, 0, 0), 2)  # Rostro\n",
    "            cv2.putText(frame, f\"Persona {i}\", (x, y - 10), cv2.FONT_HERSHEY_SIMPLEX, 0.7, (255, 0, 0), 2)\n",
    "            \n",
    "            cv2.rectangle(roi_color, (sx, sy), (sx + sw, sy + sh), (0, 255, 0), 2)  # Sonrisa\n",
    "            cv2.putText(roi_color, f\"Sonrisa {j}\", (sx, sy - 10), cv2.FONT_HERSHEY_SIMPLEX, 0.6, (0, 255, 0), 2)\n",
    "\n",
    "    return frame\n"
   ]
  },
  {
   "cell_type": "code",
   "execution_count": 9,
   "metadata": {},
   "outputs": [
    {
     "name": "stdout",
     "output_type": "stream",
     "text": [
      "Foto guardada en: fotos_capturadas\\foto_20250403_090144.png\n",
      "Foto guardada en: fotos_capturadas\\foto_20250403_090159.png\n",
      "Foto guardada en: fotos_capturadas\\foto_20250403_090200.png\n",
      "Foto guardada en: fotos_capturadas\\foto_20250403_090200.png\n",
      "Foto guardada en: fotos_capturadas\\foto_20250403_090200.png\n",
      "Foto guardada en: fotos_capturadas\\foto_20250403_090200.png\n",
      "Foto guardada en: fotos_capturadas\\foto_20250403_090200.png\n",
      "Foto guardada en: fotos_capturadas\\foto_20250403_090200.png\n",
      "Foto guardada en: fotos_capturadas\\foto_20250403_090200.png\n",
      "Foto guardada en: fotos_capturadas\\foto_20250403_090200.png\n",
      "Foto guardada en: fotos_capturadas\\foto_20250403_090200.png\n",
      "Foto guardada en: fotos_capturadas\\foto_20250403_090200.png\n",
      "Foto guardada en: fotos_capturadas\\foto_20250403_090201.png\n",
      "Foto guardada en: fotos_capturadas\\foto_20250403_090202.png\n",
      "Foto guardada en: fotos_capturadas\\foto_20250403_090202.png\n",
      "Foto guardada en: fotos_capturadas\\foto_20250403_090202.png\n",
      "Foto guardada en: fotos_capturadas\\foto_20250403_090202.png\n",
      "Foto guardada en: fotos_capturadas\\foto_20250403_090202.png\n",
      "Foto guardada en: fotos_capturadas\\foto_20250403_090202.png\n",
      "Foto guardada en: fotos_capturadas\\foto_20250403_090202.png\n",
      "Foto guardada en: fotos_capturadas\\foto_20250403_090207.png\n",
      "Foto guardada en: fotos_capturadas\\foto_20250403_090207.png\n",
      "Foto guardada en: fotos_capturadas\\foto_20250403_090207.png\n"
     ]
    }
   ],
   "source": [
    "video_capture = cv2.VideoCapture(0)\n",
    "\n",
    "while video_capture.isOpened():\n",
    "    ret, frame = video_capture.read()\n",
    "    if not ret:\n",
    "        break\n",
    "\n",
    "    gray = cv2.cvtColor(frame, cv2.COLOR_BGR2GRAY)  # Convertir a escala de grises\n",
    "    canvas = detect(gray, frame)\n",
    "\n",
    "    cv2.imshow('Detección de Sonrisas', canvas)  # Mostrar el video en tiempo real\n",
    "\n",
    "    # Presionar 'q' para salir\n",
    "    if cv2.waitKey(1) & 0xFF == ord('q'):\n",
    "        break\n",
    "\n",
    "# Liberar la cámara y cerrar ventanas\n",
    "video_capture.release()\n",
    "cv2.destroyAllWindows()"
   ]
  }
 ],
 "metadata": {
  "kernelspec": {
   "display_name": "venv",
   "language": "python",
   "name": "python3"
  },
  "language_info": {
   "codemirror_mode": {
    "name": "ipython",
    "version": 3
   },
   "file_extension": ".py",
   "mimetype": "text/x-python",
   "name": "python",
   "nbconvert_exporter": "python",
   "pygments_lexer": "ipython3",
   "version": "3.13.2"
  }
 },
 "nbformat": 4,
 "nbformat_minor": 2
}
