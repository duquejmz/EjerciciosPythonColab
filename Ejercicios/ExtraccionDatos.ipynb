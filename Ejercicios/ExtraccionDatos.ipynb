{
 "cells": [
  {
   "cell_type": "markdown",
   "metadata": {},
   "source": [
    "# Extracción de Datos"
   ]
  },
  {
   "cell_type": "markdown",
   "metadata": {},
   "source": [
    "### Es necesario instalar la dependencia PyPDF2"
   ]
  },
  {
   "cell_type": "code",
   "execution_count": null,
   "metadata": {},
   "outputs": [
    {
     "name": "stdout",
     "output_type": "stream",
     "text": [
      "Collecting PyPDF2\n",
      "  Downloading pypdf2-3.0.1-py3-none-any.whl.metadata (6.8 kB)\n",
      "Downloading pypdf2-3.0.1-py3-none-any.whl (232 kB)\n",
      "Installing collected packages: PyPDF2\n",
      "Successfully installed PyPDF2-3.0.1\n",
      "Note: you may need to restart the kernel to use updated packages.\n"
     ]
    },
    {
     "name": "stderr",
     "output_type": "stream",
     "text": [
      "\n",
      "[notice] A new release of pip is available: 24.3.1 -> 25.0.1\n",
      "[notice] To update, run: python.exe -m pip install --upgrade pip\n"
     ]
    }
   ],
   "source": [
    "!pip install PyPDF2"
   ]
  },
  {
   "cell_type": "markdown",
   "metadata": {},
   "source": [
    "Webscrapping = Sacar datos de una página web"
   ]
  },
  {
   "cell_type": "code",
   "execution_count": 7,
   "metadata": {},
   "outputs": [],
   "source": [
    "# importar librerias\n",
    "import PyPDF2\n",
    "import openpyxl"
   ]
  },
  {
   "cell_type": "code",
   "execution_count": 8,
   "metadata": {},
   "outputs": [],
   "source": [
    "# Crear un archivo de excel\n",
    "wb = openpyxl.Workbook()"
   ]
  },
  {
   "cell_type": "code",
   "execution_count": 9,
   "metadata": {},
   "outputs": [],
   "source": [
    "# Crear una hoja de trabajo\n",
    "ws = wb.active"
   ]
  },
  {
   "cell_type": "markdown",
   "metadata": {},
   "source": [
    "Para declarar los encabezados de la columna es necesario poner bien el numero de la fila y la letra de la columna "
   ]
  },
  {
   "cell_type": "code",
   "execution_count": 10,
   "metadata": {},
   "outputs": [],
   "source": [
    "# Escribir encabezados de columna\n",
    "ws['A1'] = 'Documento'\n",
    "ws['B1'] = 'Nombre'\n",
    "ws['C1'] = 'Apellidos'\n",
    "ws['D1'] = 'Área de residencia'\n",
    "ws['E1'] = 'Tipo colegio'\n",
    "ws['F1'] = 'Género'\n",
    "ws['G1'] = 'Estrato'\n",
    "ws['H1'] = 'Nota Matemáticas'\n",
    "ws['I1'] = 'Nota Lecto Escritura'\n",
    "ws['J1'] = 'Apoyo económico de padres'\n",
    "ws['K1'] = 'Último grado cursado'"
   ]
  },
  {
   "cell_type": "code",
   "execution_count": 12,
   "metadata": {},
   "outputs": [],
   "source": [
    "#Abrir y recorrer el archivo pdf\n",
    "with open('./datos/Datosaprendices.pdf', 'rb') as pdf_file:\n",
    "    # Crear un objeto de lector de PDF\n",
    "    pdf_reader = PyPDF2.PdfReader(pdf_file)\n",
    "\n",
    "    # Obtener el número de páginas del PDF\n",
    "    num_paginas = len(pdf_reader.pages)\n",
    "\n",
    "    # Iterar sobre todas las páginas y extraer el texto\n",
    "    for pagina in range(num_paginas):\n",
    "        page = pdf_reader.pages[pagina]\n",
    "        text = page.extract_text()   \n",
    "        matriz = text.split()\n",
    "        \n",
    "        row = ws.max_row + 1\n",
    "\n",
    "        for i in range(len(matriz)):\n",
    "            if \"Documento\" in matriz[i]:\n",
    "                documento = matriz[i+1]\n",
    "                ws.cell(row=row, column=1, value=documento)\n",
    "            \n",
    "            if \"Nombre\" in matriz[i]:\n",
    "                nombre = matriz[i+1]\n",
    "                ws.cell(row=row, column=2, value=nombre)\n",
    "            \n",
    "            if \"Apellidos\" in matriz[i]:\n",
    "                apellidos = matriz[i+1]\n",
    "                ws.cell(row=row, column=3, value=apellidos)\n",
    "            \n",
    "            if \"residencia\" in matriz[i]:\n",
    "                area = matriz[i+1]\n",
    "                ws.cell(row=row, column=4, value=area)\n",
    "            \n",
    "            if \"colegio\" in matriz[i]:\n",
    "                colegio = matriz[i+1]\n",
    "                ws.cell(row=row, column=5, value=colegio)\n",
    "            \n",
    "            if \"Género\" in matriz[i]:\n",
    "                genero = matriz[i+1]\n",
    "                ws.cell(row=row, column=6, value=genero)\n",
    "            \n",
    "            if \"Estrato\" in matriz[i]:\n",
    "                estrato = matriz[i+1]\n",
    "                ws.cell(row=row, column=7, value=estrato)\n",
    "            \n",
    "            if \"Matemáticas\" in matriz[i]:\n",
    "                matematicas = matriz[i+1]\n",
    "                ws.cell(row=row, column=8, value=matematicas)\n",
    "            \n",
    "            if \"Escritura\" in matriz[i]:\n",
    "                lecto = matriz[i+1]\n",
    "                ws.cell(row=row, column=9, value=lecto)\n",
    "            \n",
    "            if \"padres\" in matriz[i]:\n",
    "                padres = matriz[i+1]\n",
    "                ws.cell(row=row, column=10, value=padres)\n",
    "            \n",
    "            if \"cursad\" in matriz[i]:\n",
    "                grado = matriz[i+2]\n",
    "                ws.cell(row=row, column=11, value=grado)"
   ]
  },
  {
   "cell_type": "code",
   "execution_count": null,
   "metadata": {},
   "outputs": [],
   "source": [
    "wb.save('./datos/datos_pdf.xlsx')"
   ]
  },
  {
   "cell_type": "markdown",
   "metadata": {},
   "source": [
    "# Extracción de datos de una Web"
   ]
  },
  {
   "cell_type": "markdown",
   "metadata": {},
   "source": [
    "Instalar la siguiente dependencia"
   ]
  },
  {
   "cell_type": "code",
   "execution_count": null,
   "metadata": {},
   "outputs": [
    {
     "name": "stdout",
     "output_type": "stream",
     "text": [
      "Collecting requests\n",
      "  Downloading requests-2.32.3-py3-none-any.whl.metadata (4.6 kB)\n",
      "Collecting charset-normalizer<4,>=2 (from requests)\n",
      "  Downloading charset_normalizer-3.4.1-cp313-cp313-win_amd64.whl.metadata (36 kB)\n",
      "Collecting idna<4,>=2.5 (from requests)\n",
      "  Downloading idna-3.10-py3-none-any.whl.metadata (10 kB)\n",
      "Collecting urllib3<3,>=1.21.1 (from requests)\n",
      "  Downloading urllib3-2.3.0-py3-none-any.whl.metadata (6.5 kB)\n",
      "Collecting certifi>=2017.4.17 (from requests)\n",
      "  Downloading certifi-2025.1.31-py3-none-any.whl.metadata (2.5 kB)\n",
      "Downloading requests-2.32.3-py3-none-any.whl (64 kB)\n",
      "Downloading certifi-2025.1.31-py3-none-any.whl (166 kB)\n",
      "Downloading charset_normalizer-3.4.1-cp313-cp313-win_amd64.whl (102 kB)\n",
      "Downloading idna-3.10-py3-none-any.whl (70 kB)\n",
      "Downloading urllib3-2.3.0-py3-none-any.whl (128 kB)\n",
      "Installing collected packages: urllib3, idna, charset-normalizer, certifi, requests\n",
      "Successfully installed certifi-2025.1.31 charset-normalizer-3.4.1 idna-3.10 requests-2.32.3 urllib3-2.3.0\n",
      "Note: you may need to restart the kernel to use updated packages.\n"
     ]
    },
    {
     "name": "stderr",
     "output_type": "stream",
     "text": [
      "\n",
      "[notice] A new release of pip is available: 24.3.1 -> 25.0.1\n",
      "[notice] To update, run: python.exe -m pip install --upgrade pip\n"
     ]
    }
   ],
   "source": [
    "pip install beautifulsoup4\n",
    "pip install requests"
   ]
  },
  {
   "cell_type": "code",
   "execution_count": 1,
   "metadata": {},
   "outputs": [],
   "source": [
    "import requests\n",
    "import pandas as pd\n",
    "from bs4 import BeautifulSoup"
   ]
  },
  {
   "cell_type": "code",
   "execution_count": 2,
   "metadata": {},
   "outputs": [],
   "source": [
    "# Descargar la página web\n",
    "url = \"https://ingdanielbs.github.io/Datos/\"\n",
    "response = requests.get(url)"
   ]
  },
  {
   "cell_type": "code",
   "execution_count": 3,
   "metadata": {},
   "outputs": [],
   "source": [
    "# Analizar el HTML con BeautifulSoup\n",
    "soup = BeautifulSoup(response.content, \"html.parser\")"
   ]
  },
  {
   "cell_type": "code",
   "execution_count": null,
   "metadata": {},
   "outputs": [],
   "source": [
    "# Encontrar la tabla y obtener los datos\n",
    "table = soup.find(\"table\")"
   ]
  },
  {
   "cell_type": "code",
   "execution_count": null,
   "metadata": {},
   "outputs": [],
   "source": [
    "if table is not None:\n",
    "    rows = table.find_all(\"tr\")\n",
    "    # Resto del código aquí\n",
    "    data = []\n",
    "    for row in rows:\n",
    "        cols = row.find_all(\"td\")\n",
    "        cols = [col.text.strip() for col in cols]\n",
    "        data.append(cols)\n",
    "\n",
    "    # Convertir los datos en un DataFrame de Pandas\n",
    "    df = pd.DataFrame(data, columns=[\"Documento\", \"Nombre\", \"Apellidos\", \"Direccción\", \"Teléfono\", \"Edad\", \"Estatura\"])\n",
    "\n",
    "    # Escribir el DataFrame en un archivo de Excel\n",
    "    df.to_excel(\"./datos/datos.xlsx\", index=False)\n",
    "else:\n",
    "    print(\"La tabla no fue encontrada\")"
   ]
  },
  {
   "cell_type": "code",
   "execution_count": null,
   "metadata": {},
   "outputs": [],
   "source": [
    "# Cargar los datos de ambos archivos\n",
    "datos = pd.read_excel('./datos/datos.xlsx')\n",
    "datos_pdf = pd.read_excel('./datos/datos_pdf.xlsx')\n",
    "\n",
    "# Unir los datos basados en la columna \"Documento\", especificando qué columnas incluir\n",
    "datos_unidos = pd.merge(datos, datos_pdf[['Documento', 'Área de residencia', 'Tipo colegio', 'Género', 'Estrato', 'Nota Matemáticas', 'Nota Lecto Escritura', 'Apoyo económico de padres', 'Último grado cursado']], on='Documento')\n",
    "\n",
    "# Guardar los datos unidos en un nuevo archivo de Excel\n",
    "datos_unidos.to_excel('./datos/Dataset_final.xlsx', index=False)"
   ]
  }
 ],
 "metadata": {
  "kernelspec": {
   "display_name": "venv",
   "language": "python",
   "name": "python3"
  },
  "language_info": {
   "codemirror_mode": {
    "name": "ipython",
    "version": 3
   },
   "file_extension": ".py",
   "mimetype": "text/x-python",
   "name": "python",
   "nbconvert_exporter": "python",
   "pygments_lexer": "ipython3",
   "version": "3.13.2"
  }
 },
 "nbformat": 4,
 "nbformat_minor": 2
}
