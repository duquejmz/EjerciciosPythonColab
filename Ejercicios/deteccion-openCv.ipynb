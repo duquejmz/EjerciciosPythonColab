{
 "cells": [
  {
   "cell_type": "markdown",
   "metadata": {},
   "source": [
    "# Inteligencia Artificial"
   ]
  },
  {
   "cell_type": "code",
   "execution_count": 1,
   "metadata": {},
   "outputs": [
    {
     "name": "stdout",
     "output_type": "stream",
     "text": [
      "Collecting opencv-python\n",
      "  Using cached opencv_python-4.11.0.86-cp37-abi3-win_amd64.whl.metadata (20 kB)\n",
      "Requirement already satisfied: numpy>=1.21.2 in c:\\sena\\python_bigdata\\venv\\lib\\site-packages (from opencv-python) (2.2.3)\n",
      "Downloading opencv_python-4.11.0.86-cp37-abi3-win_amd64.whl (39.5 MB)\n",
      "   ---------------------------------------- 0.0/39.5 MB ? eta -:--:--\n",
      "   - -------------------------------------- 1.3/39.5 MB 7.6 MB/s eta 0:00:06\n",
      "   -- ------------------------------------- 2.6/39.5 MB 7.3 MB/s eta 0:00:06\n",
      "   ---- ----------------------------------- 4.2/39.5 MB 7.3 MB/s eta 0:00:05\n",
      "   ------ --------------------------------- 6.0/39.5 MB 7.7 MB/s eta 0:00:05\n",
      "   -------- ------------------------------- 8.1/39.5 MB 8.1 MB/s eta 0:00:04\n",
      "   ---------- ----------------------------- 10.0/39.5 MB 8.3 MB/s eta 0:00:04\n",
      "   ------------ --------------------------- 12.1/39.5 MB 8.6 MB/s eta 0:00:04\n",
      "   -------------- ------------------------- 14.2/39.5 MB 8.8 MB/s eta 0:00:03\n",
      "   --------------- ------------------------ 15.5/39.5 MB 8.6 MB/s eta 0:00:03\n",
      "   ----------------- ---------------------- 17.0/39.5 MB 8.6 MB/s eta 0:00:03\n",
      "   ------------------- -------------------- 18.9/39.5 MB 8.7 MB/s eta 0:00:03\n",
      "   -------------------- ------------------- 20.7/39.5 MB 8.6 MB/s eta 0:00:03\n",
      "   ---------------------- ----------------- 22.0/39.5 MB 8.5 MB/s eta 0:00:03\n",
      "   ------------------------ --------------- 24.1/39.5 MB 8.5 MB/s eta 0:00:02\n",
      "   -------------------------- ------------- 26.2/39.5 MB 8.6 MB/s eta 0:00:02\n",
      "   ---------------------------- ----------- 28.3/39.5 MB 8.8 MB/s eta 0:00:02\n",
      "   ------------------------------ --------- 30.1/39.5 MB 8.9 MB/s eta 0:00:02\n",
      "   ------------------------------- -------- 30.9/39.5 MB 8.6 MB/s eta 0:00:01\n",
      "   --------------------------------- ------ 32.8/39.5 MB 8.5 MB/s eta 0:00:01\n",
      "   ----------------------------------- ---- 34.9/39.5 MB 8.6 MB/s eta 0:00:01\n",
      "   ------------------------------------- -- 37.0/39.5 MB 8.7 MB/s eta 0:00:01\n",
      "   ---------------------------------------  38.8/39.5 MB 8.7 MB/s eta 0:00:01\n",
      "   ---------------------------------------  39.3/39.5 MB 8.7 MB/s eta 0:00:01\n",
      "   ---------------------------------------  39.3/39.5 MB 8.7 MB/s eta 0:00:01\n",
      "   ---------------------------------------  39.3/39.5 MB 8.7 MB/s eta 0:00:01\n",
      "   ---------------------------------------  39.3/39.5 MB 8.7 MB/s eta 0:00:01\n",
      "   ---------------------------------------  39.3/39.5 MB 8.7 MB/s eta 0:00:01\n",
      "   ---------------------------------------  39.3/39.5 MB 8.7 MB/s eta 0:00:01\n",
      "   ---------------------------------------  39.3/39.5 MB 8.7 MB/s eta 0:00:01\n",
      "   ---------------------------------------  39.3/39.5 MB 8.7 MB/s eta 0:00:01\n",
      "   ---------------------------------------  39.3/39.5 MB 8.7 MB/s eta 0:00:01\n",
      "   ---------------------------------------  39.3/39.5 MB 8.7 MB/s eta 0:00:01\n",
      "   ---------------------------------------  39.3/39.5 MB 8.7 MB/s eta 0:00:01\n",
      "   ---------------------------------------  39.3/39.5 MB 8.7 MB/s eta 0:00:01\n",
      "   ---------------------------------------  39.3/39.5 MB 8.7 MB/s eta 0:00:01\n",
      "   ---------------------------------------  39.3/39.5 MB 8.7 MB/s eta 0:00:01\n",
      "   ---------------------------------------- 39.5/39.5 MB 5.3 MB/s eta 0:00:00\n",
      "Installing collected packages: opencv-python\n",
      "Successfully installed opencv-python-4.11.0.86\n",
      "Note: you may need to restart the kernel to use updated packages.\n"
     ]
    },
    {
     "name": "stderr",
     "output_type": "stream",
     "text": [
      "\n",
      "[notice] A new release of pip is available: 24.3.1 -> 25.0.1\n",
      "[notice] To update, run: python.exe -m pip install --upgrade pip\n"
     ]
    }
   ],
   "source": [
    "pip install opencv-python"
   ]
  },
  {
   "cell_type": "code",
   "execution_count": 2,
   "metadata": {},
   "outputs": [],
   "source": [
    "import cv2\n",
    "import os"
   ]
  },
  {
   "cell_type": "code",
   "execution_count": 11,
   "metadata": {},
   "outputs": [
    {
     "name": "stdout",
     "output_type": "stream",
     "text": [
      "imagesPathList: ['1.jpg']\n"
     ]
    }
   ],
   "source": [
    "imagesPath = (\"./images\")\n",
    "imagesPathList = os.listdir(imagesPath)\n",
    "print('imagesPathList:', imagesPathList)"
   ]
  },
  {
   "cell_type": "code",
   "execution_count": 13,
   "metadata": {},
   "outputs": [
    {
     "name": "stdout",
     "output_type": "stream",
     "text": [
      "Creating directory faces\n"
     ]
    }
   ],
   "source": [
    "if not os.path.exists('./faces'):\n",
    "    print('Creating directory faces')\n",
    "    os.makedirs('./faces')"
   ]
  },
  {
   "cell_type": "code",
   "execution_count": 16,
   "metadata": {},
   "outputs": [
    {
     "name": "stdout",
     "output_type": "stream",
     "text": [
      "rostro guardado: 1\n"
     ]
    }
   ],
   "source": [
    "faceClassif = cv2.CascadeClassifier(cv2.data.haarcascades+'haarcascade_frontalface_default.xml')\n",
    "\n",
    "count = 0\n",
    "\n",
    "for imageName in imagesPathList:\n",
    "    #print('imageName:', imageName)\n",
    "    image = cv2.imread(imagesPath+'/'+imageName)\n",
    "    imageAux = image.copy()\n",
    "    gray = cv2.cvtColor(image, cv2.COLOR_BGR2GRAY)\n",
    "    faces = faceClassif.detectMultiScale(gray, 1.1, 5)\n",
    "    \n",
    "    for (x, y, w, h) in faces:\n",
    "        cv2.rectangle(image, (x, y), (x+w, y+h), (128, 0, 255), 2)\n",
    "    cv2.rectangle(image, (10,5), (450,25), (255,255,255), -1)\n",
    "    cv2.putText(image, 'Presione s, para almacenar los rostros encontrados: ', (10,20), 2, 0.5, (128,0,255), 1, cv2.LINE_AA)\n",
    "    cv2.imshow('image', image)\n",
    "    cv2.waitKey(0)\n",
    "    k = cv2.waitKey(0)\n",
    "    if k == ord('s'):\n",
    "        for (x, y, w, h) in faces:\n",
    "            rostro = imageAux[y:y+h,x:x+w]\n",
    "            rostro = cv2.resize(rostro, (150, 150), interpolation=cv2.INTER_CUBIC)\n",
    "            #cv2.imshow('rostro', rostro)\n",
    "            #cv2.waitKey(0)\n",
    "            cv2.imwrite('./faces/rostro_{}.jpg'.format(count), rostro)\n",
    "            count = count + 1\n",
    "            print('rostro guardado:', count)\n",
    "    elif k == 27:\n",
    "        break\n",
    "    \n",
    "cv2.destroyAllWindows()"
   ]
  }
 ],
 "metadata": {
  "kernelspec": {
   "display_name": "venv",
   "language": "python",
   "name": "python3"
  },
  "language_info": {
   "codemirror_mode": {
    "name": "ipython",
    "version": 3
   },
   "file_extension": ".py",
   "mimetype": "text/x-python",
   "name": "python",
   "nbconvert_exporter": "python",
   "pygments_lexer": "ipython3",
   "version": "3.13.2"
  }
 },
 "nbformat": 4,
 "nbformat_minor": 2
}
