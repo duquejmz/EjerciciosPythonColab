{
 "cells": [
  {
   "cell_type": "markdown",
   "metadata": {},
   "source": [
    "## Ejericios de estadistica utilizando peticiones por medio de SQL"
   ]
  },
  {
   "cell_type": "code",
   "execution_count": 23,
   "metadata": {},
   "outputs": [],
   "source": [
    "import pandas as pd\n",
    "import numpy as np\n",
    "import matplotlib as plt\n",
    "import seaborn as sns"
   ]
  },
  {
   "cell_type": "markdown",
   "metadata": {},
   "source": [
    "Importar el archivo 'player_valuations' del link de GitHub de la profesora."
   ]
  },
  {
   "cell_type": "code",
   "execution_count": 8,
   "metadata": {},
   "outputs": [
    {
     "data": {
      "text/html": [
       "<div>\n",
       "<style scoped>\n",
       "    .dataframe tbody tr th:only-of-type {\n",
       "        vertical-align: middle;\n",
       "    }\n",
       "\n",
       "    .dataframe tbody tr th {\n",
       "        vertical-align: top;\n",
       "    }\n",
       "\n",
       "    .dataframe thead th {\n",
       "        text-align: right;\n",
       "    }\n",
       "</style>\n",
       "<table border=\"1\" class=\"dataframe\">\n",
       "  <thead>\n",
       "    <tr style=\"text-align: right;\">\n",
       "      <th></th>\n",
       "      <th>player_id</th>\n",
       "      <th>date</th>\n",
       "      <th>market_value_in_eur</th>\n",
       "      <th>current_club_id</th>\n",
       "      <th>player_club_domestic_competition_id</th>\n",
       "    </tr>\n",
       "  </thead>\n",
       "  <tbody>\n",
       "    <tr>\n",
       "      <th>0</th>\n",
       "      <td>405973</td>\n",
       "      <td>2000-01-20</td>\n",
       "      <td>150000</td>\n",
       "      <td>3057</td>\n",
       "      <td>BE1</td>\n",
       "    </tr>\n",
       "    <tr>\n",
       "      <th>1</th>\n",
       "      <td>342216</td>\n",
       "      <td>2001-07-20</td>\n",
       "      <td>100000</td>\n",
       "      <td>1241</td>\n",
       "      <td>SC1</td>\n",
       "    </tr>\n",
       "    <tr>\n",
       "      <th>2</th>\n",
       "      <td>3132</td>\n",
       "      <td>2003-12-09</td>\n",
       "      <td>400000</td>\n",
       "      <td>126</td>\n",
       "      <td>TR1</td>\n",
       "    </tr>\n",
       "    <tr>\n",
       "      <th>3</th>\n",
       "      <td>6893</td>\n",
       "      <td>2003-12-15</td>\n",
       "      <td>900000</td>\n",
       "      <td>984</td>\n",
       "      <td>GB1</td>\n",
       "    </tr>\n",
       "    <tr>\n",
       "      <th>4</th>\n",
       "      <td>10</td>\n",
       "      <td>2004-10-04</td>\n",
       "      <td>7000000</td>\n",
       "      <td>398</td>\n",
       "      <td>IT1</td>\n",
       "    </tr>\n",
       "  </tbody>\n",
       "</table>\n",
       "</div>"
      ],
      "text/plain": [
       "   player_id        date  market_value_in_eur  current_club_id  \\\n",
       "0     405973  2000-01-20               150000             3057   \n",
       "1     342216  2001-07-20               100000             1241   \n",
       "2       3132  2003-12-09               400000              126   \n",
       "3       6893  2003-12-15               900000              984   \n",
       "4         10  2004-10-04              7000000              398   \n",
       "\n",
       "  player_club_domestic_competition_id  \n",
       "0                                 BE1  \n",
       "1                                 SC1  \n",
       "2                                 TR1  \n",
       "3                                 GB1  \n",
       "4                                 IT1  "
      ]
     },
     "execution_count": 8,
     "metadata": {},
     "output_type": "execute_result"
    }
   ],
   "source": [
    "data_player = pd.read_csv('./datos/player_valuations.csv')\n",
    "# Se va a mostrar los 5 primeros datos\n",
    "data_player.head()"
   ]
  },
  {
   "cell_type": "markdown",
   "metadata": {},
   "source": [
    "Cambiar nombre de las columnas - renombrar campos"
   ]
  },
  {
   "cell_type": "code",
   "execution_count": 12,
   "metadata": {},
   "outputs": [
    {
     "data": {
      "text/html": [
       "<div>\n",
       "<style scoped>\n",
       "    .dataframe tbody tr th:only-of-type {\n",
       "        vertical-align: middle;\n",
       "    }\n",
       "\n",
       "    .dataframe tbody tr th {\n",
       "        vertical-align: top;\n",
       "    }\n",
       "\n",
       "    .dataframe thead th {\n",
       "        text-align: right;\n",
       "    }\n",
       "</style>\n",
       "<table border=\"1\" class=\"dataframe\">\n",
       "  <thead>\n",
       "    <tr style=\"text-align: right;\">\n",
       "      <th></th>\n",
       "      <th>JugadorId</th>\n",
       "      <th>Fecha</th>\n",
       "      <th>PrecioEnEuros</th>\n",
       "      <th>ClubRecurrenteId</th>\n",
       "      <th>JugadorDomesticoCompetenciaClubId</th>\n",
       "    </tr>\n",
       "  </thead>\n",
       "  <tbody>\n",
       "    <tr>\n",
       "      <th>0</th>\n",
       "      <td>405973</td>\n",
       "      <td>2000-01-20</td>\n",
       "      <td>150000</td>\n",
       "      <td>3057</td>\n",
       "      <td>BE1</td>\n",
       "    </tr>\n",
       "    <tr>\n",
       "      <th>1</th>\n",
       "      <td>342216</td>\n",
       "      <td>2001-07-20</td>\n",
       "      <td>100000</td>\n",
       "      <td>1241</td>\n",
       "      <td>SC1</td>\n",
       "    </tr>\n",
       "    <tr>\n",
       "      <th>2</th>\n",
       "      <td>3132</td>\n",
       "      <td>2003-12-09</td>\n",
       "      <td>400000</td>\n",
       "      <td>126</td>\n",
       "      <td>TR1</td>\n",
       "    </tr>\n",
       "    <tr>\n",
       "      <th>3</th>\n",
       "      <td>6893</td>\n",
       "      <td>2003-12-15</td>\n",
       "      <td>900000</td>\n",
       "      <td>984</td>\n",
       "      <td>GB1</td>\n",
       "    </tr>\n",
       "    <tr>\n",
       "      <th>4</th>\n",
       "      <td>10</td>\n",
       "      <td>2004-10-04</td>\n",
       "      <td>7000000</td>\n",
       "      <td>398</td>\n",
       "      <td>IT1</td>\n",
       "    </tr>\n",
       "  </tbody>\n",
       "</table>\n",
       "</div>"
      ],
      "text/plain": [
       "   JugadorId       Fecha  PrecioEnEuros  ClubRecurrenteId  \\\n",
       "0     405973  2000-01-20         150000              3057   \n",
       "1     342216  2001-07-20         100000              1241   \n",
       "2       3132  2003-12-09         400000               126   \n",
       "3       6893  2003-12-15         900000               984   \n",
       "4         10  2004-10-04        7000000               398   \n",
       "\n",
       "  JugadorDomesticoCompetenciaClubId  \n",
       "0                               BE1  \n",
       "1                               SC1  \n",
       "2                               TR1  \n",
       "3                               GB1  \n",
       "4                               IT1  "
      ]
     },
     "execution_count": 12,
     "metadata": {},
     "output_type": "execute_result"
    }
   ],
   "source": [
    "data_player.rename(columns={'precio_en_euros' : 'PrecioEnEuros', 'player_id' : 'JugadorId', 'date' : 'Fecha', 'current_club_id' : 'ClubRecurrenteId', 'player_club_domestic_competition_id' : 'JugadorDomesticoCompetenciaClubId'}, inplace=True)\n",
    "data_player.head()"
   ]
  },
  {
   "cell_type": "markdown",
   "metadata": {},
   "source": [
    "Ordenar el DataFrame de manera descendente"
   ]
  },
  {
   "cell_type": "code",
   "execution_count": 13,
   "metadata": {},
   "outputs": [
    {
     "data": {
      "text/html": [
       "<div>\n",
       "<style scoped>\n",
       "    .dataframe tbody tr th:only-of-type {\n",
       "        vertical-align: middle;\n",
       "    }\n",
       "\n",
       "    .dataframe tbody tr th {\n",
       "        vertical-align: top;\n",
       "    }\n",
       "\n",
       "    .dataframe thead th {\n",
       "        text-align: right;\n",
       "    }\n",
       "</style>\n",
       "<table border=\"1\" class=\"dataframe\">\n",
       "  <thead>\n",
       "    <tr style=\"text-align: right;\">\n",
       "      <th></th>\n",
       "      <th>JugadorId</th>\n",
       "      <th>Fecha</th>\n",
       "      <th>PrecioEnEuros</th>\n",
       "      <th>ClubRecurrenteId</th>\n",
       "      <th>JugadorDomesticoCompetenciaClubId</th>\n",
       "    </tr>\n",
       "  </thead>\n",
       "  <tbody>\n",
       "    <tr>\n",
       "      <th>292158</th>\n",
       "      <td>342229</td>\n",
       "      <td>2019-12-19</td>\n",
       "      <td>200000000</td>\n",
       "      <td>583</td>\n",
       "      <td>FR1</td>\n",
       "    </tr>\n",
       "    <tr>\n",
       "      <th>268400</th>\n",
       "      <td>342229</td>\n",
       "      <td>2019-06-03</td>\n",
       "      <td>200000000</td>\n",
       "      <td>583</td>\n",
       "      <td>FR1</td>\n",
       "    </tr>\n",
       "    <tr>\n",
       "      <th>252371</th>\n",
       "      <td>342229</td>\n",
       "      <td>2018-12-17</td>\n",
       "      <td>200000000</td>\n",
       "      <td>583</td>\n",
       "      <td>FR1</td>\n",
       "    </tr>\n",
       "    <tr>\n",
       "      <th>443838</th>\n",
       "      <td>418560</td>\n",
       "      <td>2023-06-20</td>\n",
       "      <td>180000000</td>\n",
       "      <td>281</td>\n",
       "      <td>GB1</td>\n",
       "    </tr>\n",
       "    <tr>\n",
       "      <th>328329</th>\n",
       "      <td>342229</td>\n",
       "      <td>2020-10-15</td>\n",
       "      <td>180000000</td>\n",
       "      <td>583</td>\n",
       "      <td>FR1</td>\n",
       "    </tr>\n",
       "    <tr>\n",
       "      <th>...</th>\n",
       "      <td>...</td>\n",
       "      <td>...</td>\n",
       "      <td>...</td>\n",
       "      <td>...</td>\n",
       "      <td>...</td>\n",
       "    </tr>\n",
       "    <tr>\n",
       "      <th>456637</th>\n",
       "      <td>221815</td>\n",
       "      <td>2023-10-25</td>\n",
       "      <td>10000</td>\n",
       "      <td>1429</td>\n",
       "      <td>IT1</td>\n",
       "    </tr>\n",
       "    <tr>\n",
       "      <th>458037</th>\n",
       "      <td>55869</td>\n",
       "      <td>2023-12-04</td>\n",
       "      <td>10000</td>\n",
       "      <td>6676</td>\n",
       "      <td>GR1</td>\n",
       "    </tr>\n",
       "    <tr>\n",
       "      <th>458031</th>\n",
       "      <td>19987</td>\n",
       "      <td>2023-12-04</td>\n",
       "      <td>10000</td>\n",
       "      <td>2672</td>\n",
       "      <td>GR1</td>\n",
       "    </tr>\n",
       "    <tr>\n",
       "      <th>388267</th>\n",
       "      <td>621282</td>\n",
       "      <td>2022-02-01</td>\n",
       "      <td>10000</td>\n",
       "      <td>1005</td>\n",
       "      <td>IT1</td>\n",
       "    </tr>\n",
       "    <tr>\n",
       "      <th>15338</th>\n",
       "      <td>60096</td>\n",
       "      <td>2008-03-17</td>\n",
       "      <td>0</td>\n",
       "      <td>2696</td>\n",
       "      <td>RU1</td>\n",
       "    </tr>\n",
       "  </tbody>\n",
       "</table>\n",
       "<p>464782 rows × 5 columns</p>\n",
       "</div>"
      ],
      "text/plain": [
       "        JugadorId       Fecha  PrecioEnEuros  ClubRecurrenteId  \\\n",
       "292158     342229  2019-12-19      200000000               583   \n",
       "268400     342229  2019-06-03      200000000               583   \n",
       "252371     342229  2018-12-17      200000000               583   \n",
       "443838     418560  2023-06-20      180000000               281   \n",
       "328329     342229  2020-10-15      180000000               583   \n",
       "...           ...         ...            ...               ...   \n",
       "456637     221815  2023-10-25          10000              1429   \n",
       "458037      55869  2023-12-04          10000              6676   \n",
       "458031      19987  2023-12-04          10000              2672   \n",
       "388267     621282  2022-02-01          10000              1005   \n",
       "15338       60096  2008-03-17              0              2696   \n",
       "\n",
       "       JugadorDomesticoCompetenciaClubId  \n",
       "292158                               FR1  \n",
       "268400                               FR1  \n",
       "252371                               FR1  \n",
       "443838                               GB1  \n",
       "328329                               FR1  \n",
       "...                                  ...  \n",
       "456637                               IT1  \n",
       "458037                               GR1  \n",
       "458031                               GR1  \n",
       "388267                               IT1  \n",
       "15338                                RU1  \n",
       "\n",
       "[464782 rows x 5 columns]"
      ]
     },
     "execution_count": 13,
     "metadata": {},
     "output_type": "execute_result"
    }
   ],
   "source": [
    "df_sorted = data_player.sort_values(by='PrecioEnEuros', ascending=False)\n",
    "df_sorted"
   ]
  },
  {
   "cell_type": "markdown",
   "metadata": {},
   "source": [
    "Organizar el DataFrame de manera ascendente"
   ]
  },
  {
   "cell_type": "code",
   "execution_count": 14,
   "metadata": {},
   "outputs": [
    {
     "data": {
      "text/html": [
       "<div>\n",
       "<style scoped>\n",
       "    .dataframe tbody tr th:only-of-type {\n",
       "        vertical-align: middle;\n",
       "    }\n",
       "\n",
       "    .dataframe tbody tr th {\n",
       "        vertical-align: top;\n",
       "    }\n",
       "\n",
       "    .dataframe thead th {\n",
       "        text-align: right;\n",
       "    }\n",
       "</style>\n",
       "<table border=\"1\" class=\"dataframe\">\n",
       "  <thead>\n",
       "    <tr style=\"text-align: right;\">\n",
       "      <th></th>\n",
       "      <th>JugadorId</th>\n",
       "      <th>Fecha</th>\n",
       "      <th>PrecioEnEuros</th>\n",
       "      <th>ClubRecurrenteId</th>\n",
       "      <th>JugadorDomesticoCompetenciaClubId</th>\n",
       "    </tr>\n",
       "  </thead>\n",
       "  <tbody>\n",
       "    <tr>\n",
       "      <th>15338</th>\n",
       "      <td>60096</td>\n",
       "      <td>2008-03-17</td>\n",
       "      <td>0</td>\n",
       "      <td>2696</td>\n",
       "      <td>RU1</td>\n",
       "    </tr>\n",
       "    <tr>\n",
       "      <th>370966</th>\n",
       "      <td>36237</td>\n",
       "      <td>2021-10-16</td>\n",
       "      <td>10000</td>\n",
       "      <td>68608</td>\n",
       "      <td>PO1</td>\n",
       "    </tr>\n",
       "    <tr>\n",
       "      <th>429529</th>\n",
       "      <td>621277</td>\n",
       "      <td>2023-02-06</td>\n",
       "      <td>10000</td>\n",
       "      <td>1005</td>\n",
       "      <td>IT1</td>\n",
       "    </tr>\n",
       "    <tr>\n",
       "      <th>429511</th>\n",
       "      <td>456650</td>\n",
       "      <td>2023-02-06</td>\n",
       "      <td>10000</td>\n",
       "      <td>4171</td>\n",
       "      <td>IT1</td>\n",
       "    </tr>\n",
       "    <tr>\n",
       "      <th>429524</th>\n",
       "      <td>537142</td>\n",
       "      <td>2023-02-06</td>\n",
       "      <td>10000</td>\n",
       "      <td>1005</td>\n",
       "      <td>IT1</td>\n",
       "    </tr>\n",
       "    <tr>\n",
       "      <th>...</th>\n",
       "      <td>...</td>\n",
       "      <td>...</td>\n",
       "      <td>...</td>\n",
       "      <td>...</td>\n",
       "      <td>...</td>\n",
       "    </tr>\n",
       "    <tr>\n",
       "      <th>460596</th>\n",
       "      <td>342229</td>\n",
       "      <td>2023-12-18</td>\n",
       "      <td>180000000</td>\n",
       "      <td>583</td>\n",
       "      <td>FR1</td>\n",
       "    </tr>\n",
       "    <tr>\n",
       "      <th>426832</th>\n",
       "      <td>342229</td>\n",
       "      <td>2022-12-23</td>\n",
       "      <td>180000000</td>\n",
       "      <td>583</td>\n",
       "      <td>FR1</td>\n",
       "    </tr>\n",
       "    <tr>\n",
       "      <th>268400</th>\n",
       "      <td>342229</td>\n",
       "      <td>2019-06-03</td>\n",
       "      <td>200000000</td>\n",
       "      <td>583</td>\n",
       "      <td>FR1</td>\n",
       "    </tr>\n",
       "    <tr>\n",
       "      <th>292158</th>\n",
       "      <td>342229</td>\n",
       "      <td>2019-12-19</td>\n",
       "      <td>200000000</td>\n",
       "      <td>583</td>\n",
       "      <td>FR1</td>\n",
       "    </tr>\n",
       "    <tr>\n",
       "      <th>252371</th>\n",
       "      <td>342229</td>\n",
       "      <td>2018-12-17</td>\n",
       "      <td>200000000</td>\n",
       "      <td>583</td>\n",
       "      <td>FR1</td>\n",
       "    </tr>\n",
       "  </tbody>\n",
       "</table>\n",
       "<p>464782 rows × 5 columns</p>\n",
       "</div>"
      ],
      "text/plain": [
       "        JugadorId       Fecha  PrecioEnEuros  ClubRecurrenteId  \\\n",
       "15338       60096  2008-03-17              0              2696   \n",
       "370966      36237  2021-10-16          10000             68608   \n",
       "429529     621277  2023-02-06          10000              1005   \n",
       "429511     456650  2023-02-06          10000              4171   \n",
       "429524     537142  2023-02-06          10000              1005   \n",
       "...           ...         ...            ...               ...   \n",
       "460596     342229  2023-12-18      180000000               583   \n",
       "426832     342229  2022-12-23      180000000               583   \n",
       "268400     342229  2019-06-03      200000000               583   \n",
       "292158     342229  2019-12-19      200000000               583   \n",
       "252371     342229  2018-12-17      200000000               583   \n",
       "\n",
       "       JugadorDomesticoCompetenciaClubId  \n",
       "15338                                RU1  \n",
       "370966                               PO1  \n",
       "429529                               IT1  \n",
       "429511                               IT1  \n",
       "429524                               IT1  \n",
       "...                                  ...  \n",
       "460596                               FR1  \n",
       "426832                               FR1  \n",
       "268400                               FR1  \n",
       "292158                               FR1  \n",
       "252371                               FR1  \n",
       "\n",
       "[464782 rows x 5 columns]"
      ]
     },
     "execution_count": 14,
     "metadata": {},
     "output_type": "execute_result"
    }
   ],
   "source": [
    "data_player_ordered = data_player.sort_values(by='PrecioEnEuros', ascending=True)\n",
    "data_player_ordered"
   ]
  },
  {
   "cell_type": "markdown",
   "metadata": {},
   "source": [
    "# Estadistica Descriptiva"
   ]
  },
  {
   "cell_type": "markdown",
   "metadata": {},
   "source": [
    "### Resumen estadístico básico"
   ]
  },
  {
   "cell_type": "code",
   "execution_count": 15,
   "metadata": {},
   "outputs": [
    {
     "data": {
      "text/html": [
       "<div>\n",
       "<style scoped>\n",
       "    .dataframe tbody tr th:only-of-type {\n",
       "        vertical-align: middle;\n",
       "    }\n",
       "\n",
       "    .dataframe tbody tr th {\n",
       "        vertical-align: top;\n",
       "    }\n",
       "\n",
       "    .dataframe thead th {\n",
       "        text-align: right;\n",
       "    }\n",
       "</style>\n",
       "<table border=\"1\" class=\"dataframe\">\n",
       "  <thead>\n",
       "    <tr style=\"text-align: right;\">\n",
       "      <th></th>\n",
       "      <th>JugadorId</th>\n",
       "      <th>PrecioEnEuros</th>\n",
       "      <th>ClubRecurrenteId</th>\n",
       "    </tr>\n",
       "  </thead>\n",
       "  <tbody>\n",
       "    <tr>\n",
       "      <th>count</th>\n",
       "      <td>464782.000</td>\n",
       "      <td>464782.000</td>\n",
       "      <td>464782.000</td>\n",
       "    </tr>\n",
       "    <tr>\n",
       "      <th>mean</th>\n",
       "      <td>204484.605</td>\n",
       "      <td>2359657.620</td>\n",
       "      <td>4060.930</td>\n",
       "    </tr>\n",
       "    <tr>\n",
       "      <th>std</th>\n",
       "      <td>186128.543</td>\n",
       "      <td>6666213.585</td>\n",
       "      <td>9516.104</td>\n",
       "    </tr>\n",
       "    <tr>\n",
       "      <th>min</th>\n",
       "      <td>10.000</td>\n",
       "      <td>0.000</td>\n",
       "      <td>3.000</td>\n",
       "    </tr>\n",
       "    <tr>\n",
       "      <th>25%</th>\n",
       "      <td>56841.000</td>\n",
       "      <td>200000.000</td>\n",
       "      <td>369.000</td>\n",
       "    </tr>\n",
       "    <tr>\n",
       "      <th>50%</th>\n",
       "      <td>149526.000</td>\n",
       "      <td>500000.000</td>\n",
       "      <td>1010.000</td>\n",
       "    </tr>\n",
       "    <tr>\n",
       "      <th>75%</th>\n",
       "      <td>297772.000</td>\n",
       "      <td>1500000.000</td>\n",
       "      <td>2969.000</td>\n",
       "    </tr>\n",
       "    <tr>\n",
       "      <th>max</th>\n",
       "      <td>1186012.000</td>\n",
       "      <td>200000000.000</td>\n",
       "      <td>83678.000</td>\n",
       "    </tr>\n",
       "  </tbody>\n",
       "</table>\n",
       "</div>"
      ],
      "text/plain": [
       "        JugadorId  PrecioEnEuros  ClubRecurrenteId\n",
       "count  464782.000     464782.000        464782.000\n",
       "mean   204484.605    2359657.620          4060.930\n",
       "std    186128.543    6666213.585          9516.104\n",
       "min        10.000          0.000             3.000\n",
       "25%     56841.000     200000.000           369.000\n",
       "50%    149526.000     500000.000          1010.000\n",
       "75%    297772.000    1500000.000          2969.000\n",
       "max   1186012.000  200000000.000         83678.000"
      ]
     },
     "execution_count": 15,
     "metadata": {},
     "output_type": "execute_result"
    }
   ],
   "source": [
    "pd.set_option('display.float_format', lambda x: '%.3f' % x)\n",
    "data_player_ordered.describe()"
   ]
  },
  {
   "cell_type": "markdown",
   "metadata": {},
   "source": [
    "### Discriminar datos "
   ]
  },
  {
   "cell_type": "code",
   "execution_count": null,
   "metadata": {},
   "outputs": [
    {
     "data": {
      "text/plain": [
       "np.float64(2359657.620129437)"
      ]
     },
     "execution_count": 17,
     "metadata": {},
     "output_type": "execute_result"
    }
   ],
   "source": [
    "# traer la media - promedio\n",
    "\n",
    "df_discriminate = data_player_ordered['PrecioEnEuros'].mean()\n",
    "df_discriminate"
   ]
  },
  {
   "cell_type": "code",
   "execution_count": null,
   "metadata": {},
   "outputs": [
    {
     "data": {
      "text/plain": [
       "np.float64(500000.0)"
      ]
     },
     "execution_count": 18,
     "metadata": {},
     "output_type": "execute_result"
    }
   ],
   "source": [
    "# traer la mediana - dato del medio\n",
    "\n",
    "df_discriminate = data_player_ordered['PrecioEnEuros'].median()\n",
    "df_discriminate"
   ]
  },
  {
   "cell_type": "code",
   "execution_count": null,
   "metadata": {},
   "outputs": [
    {
     "data": {
      "text/plain": [
       "0    300000\n",
       "Name: PrecioEnEuros, dtype: int64"
      ]
     },
     "execution_count": 19,
     "metadata": {},
     "output_type": "execute_result"
    }
   ],
   "source": [
    "# traer la moda - elemento que mas se repite\n",
    "\n",
    "df_discriminate = data_player_ordered['PrecioEnEuros'].mode()\n",
    "df_discriminate"
   ]
  },
  {
   "cell_type": "markdown",
   "metadata": {},
   "source": [
    "### Graficar datos"
   ]
  },
  {
   "cell_type": "markdown",
   "metadata": {},
   "source": [
    "### Cuartiles : Se encarga de administar los grupos de datos | 25% | 50% | 75%"
   ]
  },
  {
   "cell_type": "markdown",
   "metadata": {},
   "source": [
    "1. Primer Grafico"
   ]
  },
  {
   "cell_type": "code",
   "execution_count": 25,
   "metadata": {},
   "outputs": [
    {
     "data": {
      "image/png": "[encoded data removed]",
      "text/plain": [
       "<Figure size 640x480 with 1 Axes>"
      ]
     },
     "metadata": {},
     "output_type": "display_data"
    }
   ],
   "source": [
    "import matplotlib.pyplot as plt\n",
    "\n",
    "plt.ticklabel_format(style='plain', axis='y')\n",
    "\n",
    "plt.boxplot(data_player_ordered['PrecioEnEuros'])\n",
    "plt.show()"
   ]
  },
  {
   "cell_type": "markdown",
   "metadata": {},
   "source": [
    "### Histograma : Representación en forma de barras."
   ]
  },
  {
   "cell_type": "markdown",
   "metadata": {},
   "source": [
    "El histograma depende del tipo de dato a graficar"
   ]
  },
  {
   "cell_type": "code",
   "execution_count": 27,
   "metadata": {},
   "outputs": [
    {
     "data": {
      "image/png": "[encoded data removed]",
      "text/plain": [
       "<Figure size 640x480 with 1 Axes>"
      ]
     },
     "metadata": {},
     "output_type": "display_data"
    }
   ],
   "source": [
    "plt.hist(data_player_ordered['PrecioEnEuros'], bins=10)\n",
    "plt.show()"
   ]
  },
  {
   "cell_type": "code",
   "execution_count": 30,
   "metadata": {},
   "outputs": [],
   "source": [
    "Q1 = data_player_ordered['PrecioEnEuros'].quantile(0.25)\n",
    "Q3 = data_player_ordered['PrecioEnEuros'].quantile(0.75)\n",
    "IQR = Q3 - Q1"
   ]
  },
  {
   "cell_type": "code",
   "execution_count": null,
   "metadata": {},
   "outputs": [
    {
     "name": "stdout",
     "output_type": "stream",
     "text": [
      "-1750000.0\n",
      "3450000.0\n"
     ]
    }
   ],
   "source": [
    "lower_bound = Q1 - 1.5 * IQR\n",
    "upper_bound = Q3 + 1.5 * IQR\n",
    "\n",
    "print(lower_bound) # sumar valores\n",
    "print(upper_bound) # restar valores"
   ]
  },
  {
   "cell_type": "code",
   "execution_count": 37,
   "metadata": {},
   "outputs": [
    {
     "data": {
      "text/html": [
       "<div>\n",
       "<style scoped>\n",
       "    .dataframe tbody tr th:only-of-type {\n",
       "        vertical-align: middle;\n",
       "    }\n",
       "\n",
       "    .dataframe tbody tr th {\n",
       "        vertical-align: top;\n",
       "    }\n",
       "\n",
       "    .dataframe thead th {\n",
       "        text-align: right;\n",
       "    }\n",
       "</style>\n",
       "<table border=\"1\" class=\"dataframe\">\n",
       "  <thead>\n",
       "    <tr style=\"text-align: right;\">\n",
       "      <th></th>\n",
       "      <th>JugadorId</th>\n",
       "      <th>Fecha</th>\n",
       "      <th>PrecioEnEuros</th>\n",
       "      <th>ClubRecurrenteId</th>\n",
       "      <th>JugadorDomesticoCompetenciaClubId</th>\n",
       "    </tr>\n",
       "  </thead>\n",
       "  <tbody>\n",
       "    <tr>\n",
       "      <th>15338</th>\n",
       "      <td>60096</td>\n",
       "      <td>2008-03-17</td>\n",
       "      <td>0</td>\n",
       "      <td>2696</td>\n",
       "      <td>RU1</td>\n",
       "    </tr>\n",
       "    <tr>\n",
       "      <th>370966</th>\n",
       "      <td>36237</td>\n",
       "      <td>2021-10-16</td>\n",
       "      <td>10000</td>\n",
       "      <td>68608</td>\n",
       "      <td>PO1</td>\n",
       "    </tr>\n",
       "    <tr>\n",
       "      <th>429529</th>\n",
       "      <td>621277</td>\n",
       "      <td>2023-02-06</td>\n",
       "      <td>10000</td>\n",
       "      <td>1005</td>\n",
       "      <td>IT1</td>\n",
       "    </tr>\n",
       "    <tr>\n",
       "      <th>429511</th>\n",
       "      <td>456650</td>\n",
       "      <td>2023-02-06</td>\n",
       "      <td>10000</td>\n",
       "      <td>4171</td>\n",
       "      <td>IT1</td>\n",
       "    </tr>\n",
       "    <tr>\n",
       "      <th>429524</th>\n",
       "      <td>537142</td>\n",
       "      <td>2023-02-06</td>\n",
       "      <td>10000</td>\n",
       "      <td>1005</td>\n",
       "      <td>IT1</td>\n",
       "    </tr>\n",
       "    <tr>\n",
       "      <th>...</th>\n",
       "      <td>...</td>\n",
       "      <td>...</td>\n",
       "      <td>...</td>\n",
       "      <td>...</td>\n",
       "      <td>...</td>\n",
       "    </tr>\n",
       "    <tr>\n",
       "      <th>15355</th>\n",
       "      <td>18644</td>\n",
       "      <td>2008-03-19</td>\n",
       "      <td>3400000</td>\n",
       "      <td>2687</td>\n",
       "      <td>ES1</td>\n",
       "    </tr>\n",
       "    <tr>\n",
       "      <th>15484</th>\n",
       "      <td>40433</td>\n",
       "      <td>2008-03-31</td>\n",
       "      <td>3400000</td>\n",
       "      <td>46</td>\n",
       "      <td>IT1</td>\n",
       "    </tr>\n",
       "    <tr>\n",
       "      <th>15560</th>\n",
       "      <td>15762</td>\n",
       "      <td>2008-04-04</td>\n",
       "      <td>3400000</td>\n",
       "      <td>11282</td>\n",
       "      <td>TR1</td>\n",
       "    </tr>\n",
       "    <tr>\n",
       "      <th>15574</th>\n",
       "      <td>44027</td>\n",
       "      <td>2008-04-04</td>\n",
       "      <td>3400000</td>\n",
       "      <td>1084</td>\n",
       "      <td>ES1</td>\n",
       "    </tr>\n",
       "    <tr>\n",
       "      <th>176267</th>\n",
       "      <td>207715</td>\n",
       "      <td>2016-07-15</td>\n",
       "      <td>3400000</td>\n",
       "      <td>1025</td>\n",
       "      <td>IT1</td>\n",
       "    </tr>\n",
       "  </tbody>\n",
       "</table>\n",
       "<p>396578 rows × 5 columns</p>\n",
       "</div>"
      ],
      "text/plain": [
       "        JugadorId       Fecha  PrecioEnEuros  ClubRecurrenteId  \\\n",
       "15338       60096  2008-03-17              0              2696   \n",
       "370966      36237  2021-10-16          10000             68608   \n",
       "429529     621277  2023-02-06          10000              1005   \n",
       "429511     456650  2023-02-06          10000              4171   \n",
       "429524     537142  2023-02-06          10000              1005   \n",
       "...           ...         ...            ...               ...   \n",
       "15355       18644  2008-03-19        3400000              2687   \n",
       "15484       40433  2008-03-31        3400000                46   \n",
       "15560       15762  2008-04-04        3400000             11282   \n",
       "15574       44027  2008-04-04        3400000              1084   \n",
       "176267     207715  2016-07-15        3400000              1025   \n",
       "\n",
       "       JugadorDomesticoCompetenciaClubId  \n",
       "15338                                RU1  \n",
       "370966                               PO1  \n",
       "429529                               IT1  \n",
       "429511                               IT1  \n",
       "429524                               IT1  \n",
       "...                                  ...  \n",
       "15355                                ES1  \n",
       "15484                                IT1  \n",
       "15560                                TR1  \n",
       "15574                                ES1  \n",
       "176267                               IT1  \n",
       "\n",
       "[396578 rows x 5 columns]"
      ]
     },
     "execution_count": 37,
     "metadata": {},
     "output_type": "execute_result"
    }
   ],
   "source": [
    "df = data_player_ordered\n",
    "df_filtered = df[(df['PrecioEnEuros'] >= lower_bound ) & (df['PrecioEnEuros'] <= upper_bound)]\n",
    "df_filtered"
   ]
  },
  {
   "cell_type": "code",
   "execution_count": 38,
   "metadata": {},
   "outputs": [
    {
     "data": {
      "image/png": "[encoded data removed]",
      "text/plain": [
       "<Figure size 640x480 with 1 Axes>"
      ]
     },
     "metadata": {},
     "output_type": "display_data"
    },
    {
     "data": {
      "image/png": "[encoded data removed]",
      "text/plain": [
       "<Figure size 640x480 with 1 Axes>"
      ]
     },
     "metadata": {},
     "output_type": "display_data"
    }
   ],
   "source": [
    "plt.boxplot(df_filtered['PrecioEnEuros'])\n",
    "plt.title('Bosxplot de PrecioEnEuros')\n",
    "plt.show()\n",
    "\n",
    "plt.hist(df_filtered['PrecioEnEuros'], bins=10)\n",
    "plt.title('Histograma de PrecioEnEuros')\n",
    "plt.show()"
   ]
  }
 ],
 "metadata": {
  "kernelspec": {
   "display_name": "venv",
   "language": "python",
   "name": "python3"
  },
  "language_info": {
   "codemirror_mode": {
    "name": "ipython",
    "version": 3
   },
   "file_extension": ".py",
   "mimetype": "text/x-python",
   "name": "python",
   "nbconvert_exporter": "python",
   "pygments_lexer": "ipython3",
   "version": "3.13.2"
  }
 },
 "nbformat": 4,
 "nbformat_minor": 2
}
