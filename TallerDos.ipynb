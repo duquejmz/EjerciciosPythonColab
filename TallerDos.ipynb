{
  "nbformat": 4,
  "nbformat_minor": 0,
  "metadata": {
    "colab": {
      "provenance": [],
      "authorship_tag": "ABX9TyNXbDKlcLf10K6hFS8ldyH/",
      "include_colab_link": true
    },
    "kernelspec": {
      "name": "python3",
      "display_name": "Python 3"
    },
    "language_info": {
      "name": "python"
    }
  },
  "cells": [
    {
      "cell_type": "markdown",
      "metadata": {
        "id": "view-in-github",
        "colab_type": "text"
      },
      "source": [
        "<a href=\"https://colab.research.google.com/github/duquejmz/EjerciciosPythonColab/blob/main/TallerDos.ipynb\" target=\"_parent\"><img src=\"https://colab.research.google.com/assets/colab-badge.svg\" alt=\"Open In Colab\"/></a>"
      ]
    },
    {
      "cell_type": "markdown",
      "source": [
        "**TALLER DE ALGORITMOS UTILIZANDO LA INSTRUCCIÓN SÍ\n",
        "O ESTRUCTURAS SELECTIVAS**"
      ],
      "metadata": {
        "id": "8KU84FtZR3on"
      }
    },
    {
      "cell_type": "markdown",
      "source": [
        "1. Desarrolle un algoritmo que lea un número, en caso de ser negativo lo\n",
        "imprima junto con su positivo."
      ],
      "metadata": {
        "id": "FGViVF9RR-EW"
      }
    },
    {
      "cell_type": "code",
      "execution_count": null,
      "metadata": {
        "colab": {
          "base_uri": "https://localhost:8080/"
        },
        "id": "ABiWVjnTLQ0a",
        "outputId": "ee30e3f7-9f85-4f35-816a-f2a158bc2924"
      },
      "outputs": [
        {
          "output_type": "stream",
          "name": "stdout",
          "text": [
            "Ingrese un número: -8\n",
            "-8 es un número negativo y su positivo es: 8\n"
          ]
        }
      ],
      "source": [
        "# declaración de variables\n",
        "numero = input(\"Ingrese un número: \");\n",
        "\n",
        "# convertir string a int\n",
        "# implementando la función abs, este me devuelve el valor absoluto (sin el signo), del número que se le pasa.\n",
        "negativo = int(numero);\n",
        "positivo = abs(int(numero));\n",
        "\n",
        "# se implementa la función con un condicional que valida, si este es negativo, devolver su valor positivo.\n",
        "if negativo < 0:\n",
        "  print(negativo, \"es un número negativo y su positivo es:\", positivo);\n",
        "else:\n",
        "    print(positivo, \"es un número positivo\");"
      ]
    },
    {
      "cell_type": "markdown",
      "source": [
        "2. Desarrollar un programa que, dado una calificación de un alumno en un\n",
        "parcial, escribe aprobado si la calificación es superior a 3.\n"
      ],
      "metadata": {
        "id": "jDZ3fmm4WJU6"
      }
    },
    {
      "cell_type": "code",
      "source": [
        "# declaración de variable (se solicita la entrada de dato por consola)\n",
        "calificacion = input(\"Ingrese la calificación del estudiante: \");\n",
        "\n",
        "# convertir el tipo de dato\n",
        "calificacion = float(calificacion);\n",
        "\n",
        "# función que usa un condicional para validar si la nota es menor o igual a 3,\n",
        "# el estudiante reprueba, de lo contrario el estudiante aprueba.\n",
        "if calificacion <= 3:\n",
        "  print(\"El estudiante ha reprobado\");\n",
        "else:\n",
        "  print(\"El estudiante ha aprobado\");"
      ],
      "metadata": {
        "colab": {
          "base_uri": "https://localhost:8080/"
        },
        "id": "-3SaUfYvWPq2",
        "outputId": "416ce49c-08c8-4e56-f15c-d76cad50279b"
      },
      "execution_count": null,
      "outputs": [
        {
          "output_type": "stream",
          "name": "stdout",
          "text": [
            "Ingrese la calificación del estudiante: 3.1\n",
            "El estudiante ha aprobado\n"
          ]
        }
      ]
    },
    {
      "cell_type": "markdown",
      "source": [
        "3. Desarrollar el algoritmo dado como dato el sueldo de un trabajador, le aplica\n",
        "un aumento del 15% si su sueldo es inferior a $300.000.\n"
      ],
      "metadata": {
        "id": "HQIPhDNkXIzd"
      }
    },
    {
      "cell_type": "code",
      "source": [
        "# declaración de variables\n",
        "sueldoTrabajador = input(\"Ingrese el sueldo del trabajador: \");\n",
        "aumento = 0.15;\n",
        "\n",
        "# convertir tipo de dato\n",
        "sueldoTrabajador = float(sueldoTrabajador);\n",
        "incremento = sueldoTrabajador * aumento;\n",
        "\n",
        "# realizar funcion con un condicional, el cual valide si el sueldo del\n",
        "# trabajador en inferior a 300.000COP, a este se le debe de agregar un aumento\n",
        "# del 15%, de lo contrario no se le agrega el aumento.\n",
        "\n",
        "if sueldoTrabajador < 300.000:\n",
        "  # en esta función le estoy pidiendo que me calcule el valor final del salario\n",
        "  # del trabajador con el 15%, es decir, que primero realice la multiplicación\n",
        "  # del sueldo del trabajador por el aumento y luego este lo sume de nuevo con\n",
        "  # el sueldo del trabajador.\n",
        "  print(\"El trabajador tiene un aumento del 15% el cual es: \", incremento);\n",
        "  sueldoTrabajadorFinal = sueldoTrabajador + (sueldoTrabajador * aumento);\n",
        "  print(\"El trabajador tiene un aumento del 15% y su sueldo queda en: \", sueldoTrabajadorFinal);\n",
        "else:\n",
        "  print(\"El trabajador no tiene aumento\");"
      ],
      "metadata": {
        "colab": {
          "base_uri": "https://localhost:8080/"
        },
        "id": "JmbFu7A3XTQW",
        "outputId": "e3e921fa-94db-4855-fa76-f8463c2ce2b7"
      },
      "execution_count": null,
      "outputs": [
        {
          "output_type": "stream",
          "name": "stdout",
          "text": [
            "Ingrese el sueldo del trabajador: 299.999\n",
            "El trabajador tiene un aumento del 15% el cual es:  44.99985\n",
            "El trabajador tiene un aumento del 15% y su sueldo queda en:  344.99885\n"
          ]
        }
      ]
    },
    {
      "cell_type": "markdown",
      "source": [
        "4. Desarrollar un algoritmo que asigne el sueldo a cinco empleados, teniendo\n",
        "en cuenta su categoría."
      ],
      "metadata": {
        "id": "gDU9Tj7nZnm8"
      }
    },
    {
      "cell_type": "code",
      "source": [
        "# declaración de la variable categorias, la cual da unas opciones de categoria\n",
        "categorias = input(\"Ingrese la categoría del trabajador (A, B,C, D, E): \").upper();\n",
        "\n",
        "# función de condicional si, la cual se encarga de devolver el valor del sueldo, dependiendo de cual opción (categoria) se elija\n",
        "if categorias == \"A\":\n",
        "  sueldo = 1000000;\n",
        "  print(\"El sueldo del trabajador es: \", sueldo);\n",
        "elif categorias == \"B\":\n",
        "  sueldo = 800000;\n",
        "  print(\"El sueldo del trabajador es: \", sueldo);\n",
        "elif categorias == \"C\":\n",
        "  sueldo = 600000;\n",
        "  print(\"El sueldo del trabajador es: \", sueldo);\n",
        "elif categorias == \"D\":\n",
        "  sueldo = 400000;\n",
        "  print(\"El sueldo del trabajador es: \", sueldo);\n",
        "elif categorias == \"E\":\n",
        "  sueldo = 200000;"
      ],
      "metadata": {
        "colab": {
          "base_uri": "https://localhost:8080/"
        },
        "id": "qUCG5nynbzu5",
        "outputId": "9af4912a-3f65-4e59-a1d6-f1fec75a9d21"
      },
      "execution_count": null,
      "outputs": [
        {
          "output_type": "stream",
          "name": "stdout",
          "text": [
            "Ingrese la categoría del trabajador (A, B,C, D, E): D\n",
            "El sueldo del trabajador es:  400000\n"
          ]
        }
      ]
    },
    {
      "cell_type": "markdown",
      "source": [
        "5. Desarrollar un programa que capture tres números e imprima por pantalla\n",
        "cual es el número mayor, el menor, cuales son iguales, si los tres\n",
        "diferentes.\n"
      ],
      "metadata": {
        "id": "JZvAVPjn4Wak"
      }
    },
    {
      "cell_type": "code",
      "source": [
        "# declaración de variables\n",
        "numeroUno = int(input(\"Ingrese el primer número: \"));\n",
        "numeroDos = int(input(\"Ingrese el segundo número: \"));\n",
        "numeroTres = int(input(\"Ingrese el tercer número: \"));\n",
        "\n",
        "# función de condicional si, donde se encarga de verificar cual es el numero mayor entre las tres opciones\n",
        "if numeroUno > numeroDos and numeroUno > numeroTres:\n",
        "  mayor = numeroUno;\n",
        "  print(\"El número mayor es: \", mayor);\n",
        "elif numeroDos > numeroUno and numeroDos > numeroTres:\n",
        "  mayor = numeroDos;\n",
        "  print(\"El número mayor es: \", mayor);\n",
        "else:\n",
        "  mayor = numeroTres;\n",
        "  print(\"El número mayor es: \", mayor);\n",
        "\n",
        "# función de condicional si, donde se encarga de verificar cual es el numero menor entre las tres opciones\n",
        "if numeroUno < numeroDos and numeroUno < numeroTres:\n",
        "  menor = numeroUno;\n",
        "  print(\"El número menor es: \", menor);\n",
        "elif numeroDos < numeroUno and numeroDos < numeroTres:\n",
        "  menor = numeroDos;\n",
        "  print(\"El número menor es: \", menor);\n",
        "else:\n",
        "  menor = numeroTres;\n",
        "  print(\"El número menor es: \", menor);\n",
        "\n",
        "# aquí imprime los resultados del numero mayor y menor\n",
        "print(f\"Mayor: {mayor}, Menor: {menor}\");\n",
        "\n",
        "# función de condicional donde se encarga de verificar si los tres numeros son iguales\n",
        "if numeroUno == numeroDos and numeroUno == numeroTres:\n",
        "  print(\"Los tres números son iguales\");\n",
        "# verifica si solo hay dos numeros iguales\n",
        "elif numeroUno == numeroDos or numeroUno == numeroTres or numeroDos == numeroTres:\n",
        "  print(\"Hay dos números iguales\");\n",
        "# si no son iguales, imprime los numeros diferentes\n",
        "else:\n",
        "  print(\"Los tres números son diferentes\");"
      ],
      "metadata": {
        "id": "HooRhkjw4dzh",
        "colab": {
          "base_uri": "https://localhost:8080/"
        },
        "outputId": "e4967d40-fde8-4c3c-b870-122ecdd7b552"
      },
      "execution_count": null,
      "outputs": [
        {
          "output_type": "stream",
          "name": "stdout",
          "text": [
            "Ingrese el primer número: 3\n",
            "Ingrese el segundo número: 6\n",
            "Ingrese el tercer número: 7\n",
            "El número mayor es:  7\n",
            "El número menor es:  3\n",
            "Mayor: 7, Menor: 3\n",
            "Los tres números son diferentes\n"
          ]
        }
      ]
    },
    {
      "cell_type": "markdown",
      "source": [
        "6. Escriba el algoritmo que al capturar un numero entero convierta grados\n",
        "centígrados a kelvin, si captura un numero flotante diga si es mayor a 10.5,\n",
        "y si captura un carácter escriba su nombre."
      ],
      "metadata": {
        "id": "ETbRC733YdGF"
      }
    },
    {
      "cell_type": "code",
      "source": [
        "# declaración de variable\n",
        "entrada = input(\"Ingrese un número entero, flotante o carácter: \")\n",
        "\n",
        "# se verifica si la entrada es un número entero (positivo o negativo)\n",
        "if entrada.lstrip('-').isdigit():\n",
        "    grados = int(entrada)\n",
        "    kelvin = grados + 273.15\n",
        "    print(\"La temperatura en grados Kelvin es:\", kelvin)\n",
        "\n",
        "# se verifica si la entrada es un número flotante\n",
        "elif entrada.replace('.', '', 1).lstrip('-').isdigit():\n",
        "    num_flotante = float(entrada)\n",
        "    if num_flotante > 10.5:\n",
        "        print(\"El número es mayor a 10.5\")\n",
        "    else:\n",
        "        print(\"El número es menor o igual a 10.5\")\n",
        "\n",
        "# si no es ni entero ni flotante, se trata como un carácter\n",
        "else:\n",
        "    print(\"El carácter ingresado es:\", entrada)"
      ],
      "metadata": {
        "id": "KAuf6xUUYlG6",
        "colab": {
          "base_uri": "https://localhost:8080/"
        },
        "outputId": "a59b2015-25de-4111-93ed-820b65f08434"
      },
      "execution_count": null,
      "outputs": [
        {
          "output_type": "stream",
          "name": "stdout",
          "text": [
            "Ingrese un número entero, flotante o carácter: -\n",
            "El carácter ingresado es: -\n"
          ]
        }
      ]
    },
    {
      "cell_type": "markdown",
      "source": [
        "7. Desarrolle un algoritmo que lea de un registro: el nombre, la edad, el sexo,\n",
        "el estado civil de cualquier persona e imprima el nombre de la persona, si\n",
        "corresponde a un hombre casado mayor de 40 años o a una mujer soltera\n",
        "menor de 50 años."
      ],
      "metadata": {
        "id": "7PA5pPFHZNhy"
      }
    },
    {
      "cell_type": "code",
      "source": [
        "# declaración de variables\n",
        "nombre = input(\"Ingrese su nombre: \");\n",
        "edad = int(input(\"Ingrese su edad: \"));\n",
        "sexo = input(\"Ingrese su sexo (M/F): \").strip().upper();\n",
        "estadoCivil = input(\"Ingrese su estado civil (S/C): \").strip().upper();\n",
        "\n",
        "# se verifica si el sexo es masculino y el estado civil es casado y su edad es\n",
        "# mayor de 40 o si, su sexo es femenino, estado civil soltera y la edad menor de\n",
        "# 50 años, debe imprimir un mensaje con el nombre de la persona que cumple los\n",
        "# requisitos\n",
        "\n",
        "if (sexo == \"M\" and estadoCivil == \"C\" and edad > 40) or (sexo == \"F\" and estadoCivil == \"S\" and edad < 50):\n",
        "        print(f\"{nombre} cumple con los requisitos\");"
      ],
      "metadata": {
        "id": "xC6JofWvZRVE",
        "colab": {
          "base_uri": "https://localhost:8080/"
        },
        "outputId": "fea418c3-1cb1-4667-da15-430ede1ff384"
      },
      "execution_count": null,
      "outputs": [
        {
          "output_type": "stream",
          "name": "stdout",
          "text": [
            "Ingrese su nombre: Martha\n",
            "Ingrese su edad: 33\n",
            "Ingrese su sexo (M/F): f\n",
            "Ingrese su estado civil (S/C): s\n",
            "Martha cumple con los requisitos\n"
          ]
        }
      ]
    },
    {
      "cell_type": "markdown",
      "source": [
        "8. Prepare un algoritmo que identifique e imprima el número medio de un\n",
        "conjunto de tres números únicos. El número medio es aquel que no es el\n",
        "menor ni el mayor.\n"
      ],
      "metadata": {
        "id": "_KUuuoouaCcs"
      }
    },
    {
      "cell_type": "code",
      "source": [
        "# declaración de variables\n",
        "a = int(input(\"Ingrese el primer número: \"));\n",
        "b = int(input(\"Ingrese el segundo número: \"));\n",
        "c = int(input(\"Ingrese el tercer número: \"));\n",
        "\n",
        "# función donde se verifica cual numero, de los que se ingresa, es el del medio\n",
        "if (a > b and a < c) or (a < b and a > c):\n",
        "  medio = a\n",
        "elif (b > a and b < c) or (b < a and b > c):\n",
        "  medio = b\n",
        "else:\n",
        "  medio = c\n",
        "  print(f\"El número medio es: {medio}\")"
      ],
      "metadata": {
        "id": "jhmC9L7EaFDe",
        "colab": {
          "base_uri": "https://localhost:8080/"
        },
        "outputId": "97b562c0-aedc-4d44-8819-e821f9efc9ac"
      },
      "execution_count": null,
      "outputs": [
        {
          "output_type": "stream",
          "name": "stdout",
          "text": [
            "Ingrese el primer número: 10\n",
            "Ingrese el segundo número: 5\n",
            "Ingrese el tercer número: 7\n",
            "El número medio es: 7\n"
          ]
        }
      ]
    },
    {
      "cell_type": "markdown",
      "source": [
        "9. Dados tres números enteros únicos, a, b y c. Elabore un algoritmo que los ordene de mayor a menor e imprímalos.\n"
      ],
      "metadata": {
        "id": "_ub_QPLwlsHr"
      }
    },
    {
      "cell_type": "code",
      "source": [
        "# declaración de variables\n",
        "a = int(input(\"Ingrese el primer número: \"))\n",
        "b = int(input(\"Ingrese el segundo número: \"))\n",
        "c = int(input(\"Ingrese el tercer número: \"))\n",
        "\n",
        "# asignación de una lista\n",
        "numeros = [a, b, c]\n",
        "# se utiliza la función sort para que ordene los numeros (los ordena de menor a mayor), al utilizar el reverse, este los ordena de mayor a menor.\n",
        "numeros.sort(reverse=True)\n",
        "print(\"Números ordenados de mayor a menor:\", numeros)"
      ],
      "metadata": {
        "colab": {
          "base_uri": "https://localhost:8080/"
        },
        "id": "REeCkhlBly-X",
        "outputId": "e37a08ff-647a-4cb0-dca7-3da4153cfbf1"
      },
      "execution_count": 1,
      "outputs": [
        {
          "output_type": "stream",
          "name": "stdout",
          "text": [
            "Ingrese el primer número: 5\n",
            "Ingrese el segundo número: 10\n",
            "Ingrese el tercer número: 15\n",
            "Números ordenados de mayor a menor: [5, 10, 15]\n"
          ]
        }
      ]
    },
    {
      "cell_type": "markdown",
      "source": [
        "10. A ciertos estudiantes se les dice que su calificación final será el promedio de las dos calificaciones más altas de entre las tres que se han obtenido en el curso. Haga un algoritmo que permita a un estudiante efectuar el cálculo correspondiente a su nota final.\n"
      ],
      "metadata": {
        "id": "PZ6pMl86mGCG"
      }
    },
    {
      "cell_type": "code",
      "source": [
        "# declaración de varaibles\n",
        "calificacionUno = float(input(\"Ingrese la primera calificación: \"))\n",
        "calificacionDos = float(input(\"Ingrese la segunda calificación: \"))\n",
        "calificacionTres = float(input(\"Ingrese la tercera calificación: \"))\n",
        "\n",
        "# declaración de una lista\n",
        "calificaciones = [calificacionUno, calificacionDos, calificacionTres]\n",
        "# se utiliza la función sort para que ordene los numeros (los ordena de menor a mayor), al utilizar el reverse, este los ordena de mayor a menor.\n",
        "calificaciones.sort(reverse=True)\n",
        "# se calcula el promedio, considerando solo las dos mejores calificaciones\n",
        "promedio = (calificaciones[0] + calificaciones[1]) / 2\n",
        "# mensaje en pantalla con el resultado\n",
        "print(\"El promedio de las dos mejores calificaciones es:\", promedio)"
      ],
      "metadata": {
        "colab": {
          "base_uri": "https://localhost:8080/"
        },
        "id": "7ySiw0H9mONm",
        "outputId": "e9bc2b47-e164-4eb0-e14c-3ed1623458bf"
      },
      "execution_count": null,
      "outputs": [
        {
          "output_type": "stream",
          "name": "stdout",
          "text": [
            "Ingrese la primera calificación: 4.0\n",
            "Ingrese la segunda calificación: 5.0\n",
            "Ingrese la tercera calificación: 4.5\n",
            "El promedio de las dos mejores calificaciones es: 4.75\n"
          ]
        }
      ]
    },
    {
      "cell_type": "markdown",
      "source": [
        "11.Escriba un algoritmo que acepte o rechace una pieza en forma de varilla, para una empresa de acuerdo a los siguientes criterios:\n",
        "\n",
        "*   Su longitud debe ser mayor de 7.5 cm pero no exceder los 9 cm\n",
        "*   Su diámetro no debe ser menor que 0.5 cm ni mayor de 1.3 cm.\n",
        "*   Por ningún motivo su masa debe exceder los 5.8 cm\n",
        "\n",
        "Nota: masa = diámetro * longitud / densidad; densidad = 3.5 Gr/cm"
      ],
      "metadata": {
        "id": "KFt-saXPmiub"
      }
    },
    {
      "cell_type": "code",
      "source": [
        "# declaración de variables\n",
        "longitud = float(input(\"Ingrese la longitud de la varilla (cm): \"))\n",
        "diametro = float(input(\"Ingrese el diámetro de la varilla (cm): \"))\n",
        "\n",
        "# calcula la masa\n",
        "masa = diametro * longitud / 3.5  # Densidad = 3.5 Gr/cm\n",
        "\n",
        "# evaluar si la pieza es aceptada o rechazada\n",
        "if 7.5 < longitud <= 9 and 0.5 <= diametro <= 1.3 and masa <= 5.8:\n",
        "  print(\"La pieza ha sido aceptada.\")\n",
        "else:\n",
        "  print(\"La pieza ha sido rechazada.\")"
      ],
      "metadata": {
        "colab": {
          "base_uri": "https://localhost:8080/"
        },
        "id": "4acLsuAfm8aG",
        "outputId": "b013bd1a-6e65-46da-8158-c9583b4f9553"
      },
      "execution_count": null,
      "outputs": [
        {
          "output_type": "stream",
          "name": "stdout",
          "text": [
            "Ingrese la longitud de la varilla (cm): 7.5\n",
            "Ingrese el diámetro de la varilla (cm): 7.5\n",
            "La pieza ha sido rechazada.\n"
          ]
        }
      ]
    },
    {
      "cell_type": "markdown",
      "source": [
        "12. Un vendedor desea calcular su comisión total sobre las ventas de varios artículos. Al vendedor le corresponde el 3% de comisión sobre artículos cuyo precio es menor de 2000 y el 5% de comisión sobre artículos cuyo precio es de 2000 o más. El vendedor hizo 50 ventas y desea saber también cuántas ventas hizo menores de 2000 y cuantas mayores o iguales a 2000."
      ],
      "metadata": {
        "id": "uBetdquFnIBn"
      }
    },
    {
      "cell_type": "code",
      "source": [
        "# declaración de variables\n",
        "ventasMenores = 0\n",
        "ventasMayores = 0\n",
        "comisionTotal = 0\n",
        "\n",
        "# ciclo de iteración\n",
        "for i in range(50):\n",
        "  precio_str = (input(f\"Ingrese el precio de la venta {i+1}: \"));\n",
        "  precio_str = precio_str.replace(',', '')\n",
        "  precio = float(precio_str)\n",
        "  # valida el precio\n",
        "  if precio < 2000:\n",
        "    comisionTotal += precio * 0.03\n",
        "    ventasMenores += 12\n",
        "  else:\n",
        "    comisionTotal += precio * 0.05\n",
        "    ventasMayores += 1\n",
        "\n",
        "# imprime y muestra en consola los resultados\n",
        "print(\"Comisión total:\", comisionTotal)\n",
        "print(\"Ventas menores de 2000:\", ventasMenores)\n",
        "print(\"Ventas mayores o iguales a 2000:\", ventasMayores)"
      ],
      "metadata": {
        "colab": {
          "base_uri": "https://localhost:8080/"
        },
        "id": "XDwMiAHQnXSB",
        "outputId": "3f050446-77d3-40a7-c8b6-140f7d565e4a"
      },
      "execution_count": null,
      "outputs": [
        {
          "output_type": "stream",
          "name": "stdout",
          "text": [
            "Ingrese el precio de la venta 1: 4000\n",
            "Ingrese el precio de la venta 2: 20000\n",
            "Ingrese el precio de la venta 3: 29394\n",
            "Ingrese el precio de la venta 4: 6000\n",
            "Ingrese el precio de la venta 5: 500\n",
            "Ingrese el precio de la venta 6: 6000\n",
            "Ingrese el precio de la venta 7: 20000\n",
            "Ingrese el precio de la venta 8: 49490\n",
            "Ingrese el precio de la venta 9: 890000\n",
            "Ingrese el precio de la venta 10: 10000000\n",
            "Comisión total: 551259.2\n",
            "Ventas menores de 2000: 1\n",
            "Ventas mayores o iguales a 2000: 9\n"
          ]
        }
      ]
    },
    {
      "cell_type": "markdown",
      "source": [
        "13. Desarrollar un algoritmo que halle la nota total de una materia en el SENA, y determine si la gano o la reprobó\n"
      ],
      "metadata": {
        "id": "3c3Wjw1joFRc"
      }
    },
    {
      "cell_type": "code",
      "source": [
        "# declaración de variables\n",
        "nota1 = float(input(\"Ingrese la primera nota: \"))\n",
        "nota2 = float(input(\"Ingrese la segunda nota: \"))\n",
        "nota3 = float(input(\"Ingrese la tercera nota: \"))\n",
        "\n",
        "# calcula el promedio\n",
        "promedio = (nota1 + nota2 + nota3 - min(nota1, nota2, nota3)) / 2\n",
        "print(f\"Nota final: {promedio}\")\n",
        "\n",
        "# valida si el promedio es mayor o menor a 3.5\n",
        "if promedio >= 3.5:\n",
        "  print(\"Aprobado\")\n",
        "else:\n",
        "  print(\"Reprobado\")"
      ],
      "metadata": {
        "colab": {
          "base_uri": "https://localhost:8080/"
        },
        "id": "CG7h2rfUoLaB",
        "outputId": "adf20f26-60ff-4acd-a6bc-ac8b81a9e438"
      },
      "execution_count": null,
      "outputs": [
        {
          "output_type": "stream",
          "name": "stdout",
          "text": [
            "Ingrese la primera nota: 2.0\n",
            "Ingrese la segunda nota: 4.5\n",
            "Ingrese la tercera nota: 3.5\n",
            "Nota final: 4.0\n",
            "Aprobado\n"
          ]
        }
      ]
    },
    {
      "cell_type": "markdown",
      "source": [
        "14. Desarrollar un algoritmo que evalué la siguiente expresión aritmética 1/n."
      ],
      "metadata": {
        "id": "eY-RKqLLoXMT"
      }
    },
    {
      "cell_type": "code",
      "source": [
        "# manejo de errores (si ingresa un caracter que no sea un numero)\n",
        "try:\n",
        "    # declaración de variable\n",
        "    n = int(input(\"Ingrese un número: \"))\n",
        "    # valida si el numero no es igual a 0 realiza la operación\n",
        "    if n != 0:\n",
        "        resultado = 1 / n\n",
        "        print(f\"El resultado de 1/{n} es: {resultado}\")\n",
        "    else:\n",
        "        print(\"No se puede dividir entre cero.\")\n",
        "except ValueError:\n",
        "    print(\"Error: Debe ingresar un número entero.\")"
      ],
      "metadata": {
        "colab": {
          "base_uri": "https://localhost:8080/"
        },
        "id": "wPYForeRodyV",
        "outputId": "109de586-5cc7-4a27-892f-6d15295afb29"
      },
      "execution_count": 8,
      "outputs": [
        {
          "output_type": "stream",
          "name": "stdout",
          "text": [
            "Ingrese un número: 3\n",
            "El resultado de 1/3 es: 0.3333333333333333\n"
          ]
        }
      ]
    },
    {
      "cell_type": "markdown",
      "source": [
        "15. Desarrollar el algoritmo que evalué la formula cuadrática o general.\n"
      ],
      "metadata": {
        "id": "jCbfgsmSodVw"
      }
    },
    {
      "cell_type": "code",
      "source": [
        "# se importa la libreria math para acceder al método 'sqrt'\n",
        "import math\n",
        "\n",
        "# declaración variables\n",
        "a = float(input(\"Ingrese el valor de a: \"))\n",
        "b = float(input(\"Ingrese el valor de b: \"))\n",
        "c = float(input(\"Ingrese el valor de c: \"))\n",
        "\n",
        "# calculo de la formula\n",
        "discriminante = b**2 - 4*a*c\n",
        "\n",
        "# valida si cumple la condición\n",
        "if discriminante >= 0:\n",
        "  raiz1 = (-b + math.sqrt(discriminante)) / (2*a)\n",
        "  raiz2 = (-b - math.sqrt(discriminante)) / (2*a)\n",
        "  print(f\"Las raíces son: {raiz1} y {raiz2}\")\n",
        "else:\n",
        "  print(\"No tiene raíces reales.\")"
      ],
      "metadata": {
        "colab": {
          "base_uri": "https://localhost:8080/"
        },
        "id": "WeDP6bHooxC7",
        "outputId": "c7546edc-e53f-46a0-cfc0-6c79e93ce769"
      },
      "execution_count": null,
      "outputs": [
        {
          "output_type": "stream",
          "name": "stdout",
          "text": [
            "Ingrese el valor de a: 1\n",
            "Ingrese el valor de b: -3\n",
            "Ingrese el valor de c: 2\n",
            "Las raíces son: 2.0 y 1.0\n"
          ]
        }
      ]
    },
    {
      "cell_type": "markdown",
      "source": [
        "16. Desarrollar un algoritmo que capture un número y diga si es par o impar."
      ],
      "metadata": {
        "id": "4waQB4qaoxg6"
      }
    },
    {
      "cell_type": "code",
      "source": [
        "# declaración de variable\n",
        "numero = int(input(\"Ingrese un número: \"))\n",
        "\n",
        "# valida si el numero es par o no\n",
        "if numero % 2 == 0:\n",
        "  print(\"El número es par.\")\n",
        "else:\n",
        "  print(\"El número es impar.\")"
      ],
      "metadata": {
        "colab": {
          "base_uri": "https://localhost:8080/"
        },
        "id": "H_k0KUsaopJo",
        "outputId": "0d5108a1-3f5f-472e-dc92-6ae7fa3d4f6b"
      },
      "execution_count": null,
      "outputs": [
        {
          "output_type": "stream",
          "name": "stdout",
          "text": [
            "Ingrese un número: 3\n",
            "El número es impar.\n"
          ]
        }
      ]
    },
    {
      "cell_type": "markdown",
      "source": [
        "17. Desarrollar el algoritmo que lea tres números y diga si uno es divisible del otro."
      ],
      "metadata": {
        "id": "3JXtqcHopMec"
      }
    },
    {
      "cell_type": "code",
      "source": [
        "# declaración de variables\n",
        "a = int(input(\"Ingrese el primer número: \"))\n",
        "b = int(input(\"Ingrese el segundo número: \"))\n",
        "c = int(input(\"Ingrese el tercer número: \"))\n",
        "\n",
        "# valida si alguno de los números cumple la condición\n",
        "if a % b == 0:\n",
        "  print(f\"{a} es divisible por {b}\")\n",
        "if b % a == 0:\n",
        "  print(f\"{b} es divisible por {a}\")\n",
        "if c % a == 0:\n",
        "  print(f\"{c} es divisible por {a}\")"
      ],
      "metadata": {
        "colab": {
          "base_uri": "https://localhost:8080/"
        },
        "id": "fmyGIsFYpQ0q",
        "outputId": "206f62e4-fc62-4b47-cc71-dd0a1fd5c866"
      },
      "execution_count": null,
      "outputs": [
        {
          "output_type": "stream",
          "name": "stdout",
          "text": [
            "Ingrese el primer número: 3\n",
            "Ingrese el segundo número: 4\n",
            "Ingrese el tercer número: 9\n",
            "9 es divisible por 3\n"
          ]
        }
      ]
    },
    {
      "cell_type": "markdown",
      "source": [
        " 18. Desarrollar un algoritmo que capture un número y diga si negativo o positivo.\n"
      ],
      "metadata": {
        "id": "ki7YpOXUpZVA"
      }
    },
    {
      "cell_type": "code",
      "source": [
        "# declaración de variables\n",
        "numero = int(input(\"Ingrese un número: \"))\n",
        "\n",
        "# valida si el numero es menor que 0 o mayor (eso indica si es positivo o negativo)\n",
        "if numero < 0:\n",
        "  print(\"El número es negativo.\")\n",
        "else:\n",
        "  print(\"El número es positivo.\")"
      ],
      "metadata": {
        "colab": {
          "base_uri": "https://localhost:8080/"
        },
        "id": "vcCJ-ODfpZyd",
        "outputId": "e9f7da89-e5db-42f3-89ae-9752b54ebd4f"
      },
      "execution_count": null,
      "outputs": [
        {
          "output_type": "stream",
          "name": "stdout",
          "text": [
            "Ingrese un número: -6\n",
            "El número es negativo.\n"
          ]
        }
      ]
    }
  ]
}