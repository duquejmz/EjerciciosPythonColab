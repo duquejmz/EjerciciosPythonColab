{
  "nbformat": 4,
  "nbformat_minor": 0,
  "metadata": {
    "colab": {
      "provenance": [],
      "authorship_tag": "ABX9TyNqTqkUaAcFGDzIHUv55kfw",
      "include_colab_link": true
    },
    "kernelspec": {
      "name": "python3",
      "display_name": "Python 3"
    },
    "language_info": {
      "name": "python"
    }
  },
  "cells": [
    {
      "cell_type": "markdown",
      "metadata": {
        "id": "view-in-github",
        "colab_type": "text"
      },
      "source": [
        "<a href=\"https://colab.research.google.com/github/duquejmz/EjerciciosPythonColab/blob/main/TallerUno.ipynb\" target=\"_parent\"><img src=\"https://colab.research.google.com/assets/colab-badge.svg\" alt=\"Open In Colab\"/></a>"
      ]
    },
    {
      "cell_type": "markdown",
      "source": [
        "**Realizar un algoritmo que realice la serie de Fibonacci**\n",
        "\n"
      ],
      "metadata": {
        "id": "rg9ArG7_VzkZ"
      }
    },
    {
      "cell_type": "code",
      "execution_count": null,
      "metadata": {
        "colab": {
          "base_uri": "https://localhost:8080/"
        },
        "collapsed": true,
        "id": "QmDfowmJLP7f",
        "outputId": "91685057-505a-4f32-a3c1-09cb85203075"
      },
      "outputs": [
        {
          "output_type": "stream",
          "name": "stdout",
          "text": [
            "0\n",
            "1\n",
            "1\n",
            "2\n",
            "3\n",
            "5\n",
            "8\n",
            "13\n",
            "21\n",
            "34\n",
            "55\n",
            "89\n"
          ]
        }
      ],
      "source": [
        "# Serie de Fibonacci hasta 100\n",
        "\n",
        "a, b = 0, 1\n",
        "while a < 100:\n",
        "  print(a)\n",
        "  a, b = b, a + b\n"
      ]
    },
    {
      "cell_type": "markdown",
      "source": [
        "- Se declaran dos variables\n",
        "- Se utiliza un ciclo while y se declara la función que van a realizar las variables.\n",
        "- Los valores de a y b son iguales al valor de b y a + b."
      ],
      "metadata": {
        "id": "VjIY0SaBIMlZ"
      }
    },
    {
      "cell_type": "markdown",
      "source": [
        "Algoritmo de Fibonacci utilizando 3 variables\n"
      ],
      "metadata": {
        "id": "2moqhKicVcdO"
      }
    },
    {
      "cell_type": "code",
      "source": [
        "n, a, b = 0, 0, 1\n",
        "while a < 100:\n",
        "  print(a)\n",
        "  a, b = b, a + b\n",
        "  n += 1"
      ],
      "metadata": {
        "colab": {
          "base_uri": "https://localhost:8080/"
        },
        "collapsed": true,
        "id": "0CybNeEqT0PX",
        "outputId": "ab128a16-06a3-4eff-801c-04d7ebf580b6"
      },
      "execution_count": null,
      "outputs": [
        {
          "output_type": "stream",
          "name": "stdout",
          "text": [
            "0\n",
            "1\n",
            "1\n",
            "2\n",
            "3\n",
            "5\n",
            "8\n",
            "13\n",
            "21\n",
            "34\n",
            "55\n",
            "89\n"
          ]
        }
      ]
    },
    {
      "cell_type": "markdown",
      "source": [
        "Ejemplo de ciclo while del Fibonacci\n",
        "- Serie de Fibonacci secuencial"
      ],
      "metadata": {
        "id": "DU0cxJQqJioa"
      }
    },
    {
      "cell_type": "code",
      "source": [
        "a = 0\n",
        "b = 1\n",
        "c = 0\n",
        "\n",
        "while a <= 50:\n",
        "  print(a)\n",
        "  c = a + b\n",
        "  a = b  # Se le asigna el valor de la variable b a la variable a\n",
        "  b = c  # Se le asigna el valor de la variable c a la variable a"
      ],
      "metadata": {
        "id": "Es-zjafgLPqm"
      },
      "execution_count": null,
      "outputs": []
    },
    {
      "cell_type": "markdown",
      "source": [
        "- Serie de Fibonacci con Tuplas"
      ],
      "metadata": {
        "id": "RnvD9MHnLwsV"
      }
    },
    {
      "cell_type": "code",
      "source": [
        "a = 0\n",
        "b = 1\n",
        "c = 0\n",
        "\n",
        "while a <= 50:\n",
        "  print(a)\n",
        "  (a, b) = (b, a + b) # Se agrupan ambos valores sin asignar la variable\n",
        "                      # temporal."
      ],
      "metadata": {
        "id": "5Co4XTp8L2Ju"
      },
      "execution_count": null,
      "outputs": []
    },
    {
      "cell_type": "markdown",
      "source": [
        "**Ejercicios básicos de Lógica de Programación**"
      ],
      "metadata": {
        "id": "MgqnzmIUPaLM"
      }
    },
    {
      "cell_type": "markdown",
      "source": [
        "1. Se desea calcular la distancia recorrida(D) por un automovil que tiene velocidad cosntante (m/s) durante un tiempo T(Sg). Considerar que es un MRU (Movimiento Rectilineo Uniforme). Tenga en cuenta que la formula del movimiento rectilineo es: ** D = VxT **"
      ],
      "metadata": {
        "id": "Vq5Cm5lcPm_q"
      }
    },
    {
      "cell_type": "code",
      "source": [
        "# distancia = input(\"Ingrese la distancia recorrida: \");\n",
        "velocidad = input(\"Ingrese la velocidad del vehiculo: \");\n",
        "tiempo = input(\"Ingrese el tiempo que ha recorrido el vehiculo: \");\n",
        "\n",
        "distancia = int(velocidad) * int(tiempo)\n",
        "\n",
        "print(\"La distancia recorrida es: \", distancia, \"Km\")"
      ],
      "metadata": {
        "colab": {
          "base_uri": "https://localhost:8080/"
        },
        "id": "TQRzrzQzPmE9",
        "outputId": "aa884e16-4af5-432a-bc12-ea811c4f8bea"
      },
      "execution_count": null,
      "outputs": [
        {
          "output_type": "stream",
          "name": "stdout",
          "text": [
            "Ingrese la velocidad del vehiculo: 100\n",
            "Ingrese el tiempo que ha recorrido el vehiculo: 23\n",
            "La distancia recorrida es:  2300 Km\n"
          ]
        }
      ]
    },
    {
      "cell_type": "markdown",
      "source": [
        "2. Se necesita obtener el promedio de un estudiante a partir de sus tres notas parciales. El estudiante debe digitar sus tres notas y el sistema deberá darle el promedio del semestre."
      ],
      "metadata": {
        "id": "6Ym7SHraScWY"
      }
    },
    {
      "cell_type": "code",
      "source": [
        "nota1 = input(\"Ingrese la primera nota: \");\n",
        "nota2 = input(\"Ingrese la segunda nota: \");\n",
        "nota3 = input(\"Ingrese la tercera nota: \");\n",
        "\n",
        "promedio = (float(nota1) + float(nota2) + float(nota3)) / 3\n",
        "\n",
        "print(\"El promedio del semestre es: \", promedio);"
      ],
      "metadata": {
        "colab": {
          "base_uri": "https://localhost:8080/"
        },
        "id": "mhl5_e5CSi35",
        "outputId": "6898d7c4-2968-43e4-8d0b-b36f277db5a1"
      },
      "execution_count": null,
      "outputs": [
        {
          "output_type": "stream",
          "name": "stdout",
          "text": [
            "Ingrese la primera nota: 4.5\n",
            "Ingrese la segunda nota: 5.0\n",
            "Ingrese la tercera nota: 4.0\n",
            "El promedio del semestre es:  4.5\n"
          ]
        }
      ]
    },
    {
      "cell_type": "markdown",
      "source": [
        "3. Elaborar un algoritmo que permita ingresar el número de partidos ganados, perdidos y empatados, de un equipo en un torneo de futbol. Se debe de imprimir el puntaje total del equipo, tenga en cuenta que:\n",
        "\n",
        "- Por cada partido ganado obtendrá 3 puntos.\n",
        "- Por cada partido empatado 1 punto.\n",
        "- Por cada partido perdido 0 puntos.\n",
        "\n",
        "Se desea imprimir la cantidad de partidos ganados, perdidos, empatados y el cálculo completo de la cantidad de puntos obtenidos del equipo de futbol."
      ],
      "metadata": {
        "id": "Pc7IBWAtVlI6"
      }
    },
    {
      "cell_type": "code",
      "source": [
        "print(\"Bienvenido al Torneo de Futbol 2025\\n\");\n",
        "\n",
        "#Declaración de variables\n",
        "\n",
        "partidosGanados = (\"Ingrese la cantidad de partidos ganados: \");\n",
        "partidosPerdidos = (\"Ingrese la cantidad de partidos perdidos: \");\n",
        "partidosEmpatados = (\"Ingrese la cantidad de partidos empatados: \");\n",
        "\n",
        "# Conversion a numeros enteros\n",
        "\n",
        "partidosGanados = int(input(partidosGanados));\n",
        "partidosPerdidos = int(input(partidosPerdidos));\n",
        "partidosEmpatados = int(input(partidosEmpatados));\n",
        "\n",
        "# Función que muestra el puntajeTotal\n",
        "\n",
        "puntajeTotal = (partidosGanados * 3) + (partidosEmpatados * 1) + (partidosPerdidos * 0);\n",
        "\n",
        "print(\"\\nLa cantidad de partidos ganados es: \", partidosGanados);\n",
        "print(\"La cantidad de partidos perdidos es: \", partidosPerdidos);\n",
        "print(\"La cantidad de partidos empatados es: \", partidosEmpatados);\n",
        "print(\"El puntaje total del equipo es: \", puntajeTotal);"
      ],
      "metadata": {
        "colab": {
          "base_uri": "https://localhost:8080/"
        },
        "id": "gaMkBs7cVwVC",
        "outputId": "3f7f12b1-099d-40fb-9ec5-341312afb0d6"
      },
      "execution_count": null,
      "outputs": [
        {
          "output_type": "stream",
          "name": "stdout",
          "text": [
            "Bienvenido al Torneo de Futbol 2025\n",
            "\n",
            "Ingrese la cantidad de partidos ganados: 3\n",
            "Ingrese la cantidad de partidos perdidos: 1\n",
            "Ingrese la cantidad de partidos empatados: 2\n",
            "\n",
            "La cantidad de partidos ganados es:  3\n",
            "La cantidad de partidos perdidos es:  1\n",
            "La cantidad de partidos empatados es:  2\n",
            "El puntaje total del equipo es:  11\n"
          ]
        }
      ]
    },
    {
      "cell_type": "markdown",
      "source": [
        "4. Se requiere el algoritmo para elaborar la planilla de un empleado.\n",
        "\n",
        "Para ello se debe digitar:\n",
        "- Nombre del empleado.\n",
        "- La cantidad de horas laboradas en el mes.\n",
        "- La tarifa por hora.\n",
        "\n",
        "Se debe calcular el total devengado por el empleado en el mes e imprimir:\n",
        "\n",
        "- Nombre del empleado.\n",
        "- Cantidad de horas laboradas.\n",
        "- Total devengado.\n"
      ],
      "metadata": {
        "id": "UhzD92Q-XHp1"
      }
    },
    {
      "cell_type": "code",
      "source": [
        "nombreEmpleado = input(\"Ingrese el nombre del empleado: \");\n",
        "cantidadHoras = input(\"Ingrese la cantidad de horas laboradas: \");\n",
        "tarifaHora = input(\"Ingrese la tarifa por hora: \");\n",
        "\n",
        "totalDevengado = int(cantidadHoras) * int(tarifaHora);\n",
        "\n",
        "print(\"\\nEl nombre del empleado es: \", nombreEmpleado);\n",
        "print(\"La cantidad de horas laboradas es: \", cantidadHoras);\n",
        "print(\"El total devengado es: \", totalDevengado);"
      ],
      "metadata": {
        "colab": {
          "base_uri": "https://localhost:8080/"
        },
        "id": "3n_3gmsTXG7h",
        "outputId": "b5fd0dbf-2457-4850-9091-cf004ff4453c"
      },
      "execution_count": null,
      "outputs": [
        {
          "output_type": "stream",
          "name": "stdout",
          "text": [
            "Ingrese el nombre del empleado: Rubi\n",
            "Ingrese la cantidad de horas laboradas: 160\n",
            "Ingrese la tarifa por hora: 60000\n",
            "\n",
            "El nombre del empleado es:  Rubi\n",
            "La cantidad de horas laboradas es:  160\n",
            "El total devengado es:  9600000\n"
          ]
        }
      ]
    },
    {
      "cell_type": "markdown",
      "source": [
        "5. Se tiene un triángulo rectángulo cuyos lados deberán ser digitados por el usuario.\n",
        "\n",
        "Se debe hallar la hipotenusa teniendo en cuenta la formula:\n",
        "\n",
        "- H = raíz cuadrada (ax2 + bx2)\n"
      ],
      "metadata": {
        "id": "xjdaAN4dZ4Cu"
      }
    },
    {
      "cell_type": "code",
      "source": [
        "a = input(\"Ingrese el valor de a: \");\n",
        "b = input(\"Ingrese el valor de b: \");\n",
        "\n",
        "hipotenusa = (int(a) ** 2 + int(b) ** 2) ** 0.5;\n",
        "\n",
        "print(\"La hipotenusa es: \", hipotenusa)"
      ],
      "metadata": {
        "colab": {
          "base_uri": "https://localhost:8080/"
        },
        "id": "jBwOx05QaGnI",
        "outputId": "93228920-949d-48fa-f639-f04585eb5ac4"
      },
      "execution_count": null,
      "outputs": [
        {
          "output_type": "stream",
          "name": "stdout",
          "text": [
            "Ingrese el valor de a: 20\n",
            "Ingrese el valor de b: 30\n",
            "La hipotenusa es:  36.05551275463989\n"
          ]
        }
      ]
    },
    {
      "cell_type": "markdown",
      "source": [
        "6. Se tiene un horno en casa con temperaturas en grados (Celsius centígrado), se requiere transformar la temperatura de grados centigrados a grados Fahrenheit. Para ello tenga en cuenta la siguiente fórmula.\n",
        "\n",
        "- F = (C * 1.8) + 32\n"
      ],
      "metadata": {
        "id": "CSffUY-tdvY_"
      }
    },
    {
      "cell_type": "code",
      "source": [
        "gradosCentigrados = input(\"Ingrese la temperatura en grados centigrados: \");\n",
        "\n",
        "gradosFahrenheit = (int(gradosCentigrados) * 1.8) + 32;\n",
        "\n",
        "print(\"La temperatura en grados Fahrenheit es: \", gradosFahrenheit, \"F°\");"
      ],
      "metadata": {
        "colab": {
          "base_uri": "https://localhost:8080/"
        },
        "id": "Ktz18syXeCLn",
        "outputId": "8b91db16-3a54-4c13-f07a-187f552cabc5"
      },
      "execution_count": null,
      "outputs": [
        {
          "output_type": "stream",
          "name": "stdout",
          "text": [
            "Ingrese la temperatura en grados centigrados: 100\n",
            "La temperatura en grados Fahrenheit es:  212.0 F°\n"
          ]
        }
      ]
    },
    {
      "cell_type": "code",
      "source": [
        "from google.colab import auth\n",
        "auth.authenticate_user()"
      ],
      "metadata": {
        "id": "Lt4x6CWkio0m"
      },
      "execution_count": 1,
      "outputs": []
    },
    {
      "cell_type": "code",
      "source": [
        "!git config --global user.name \"duquejmz\"\n",
        "!git config --global user.email \"camsdjimenez@gmail.com\""
      ],
      "metadata": {
        "id": "PF37OJpkjLQf"
      },
      "execution_count": 2,
      "outputs": []
    }
  ]
}