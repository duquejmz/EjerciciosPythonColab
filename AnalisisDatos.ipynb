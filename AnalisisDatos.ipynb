{
 "cells": [
  {
   "cell_type": "markdown",
   "metadata": {},
   "source": [
    "# Como generar consultas de SQL en Jupyter Netbooks"
   ]
  },
  {
   "cell_type": "code",
   "execution_count": 2,
   "metadata": {},
   "outputs": [
    {
     "name": "stdout",
     "output_type": "stream",
     "text": [
      "3.45.3\n"
     ]
    }
   ],
   "source": [
    "import pandas as pd\n",
    "import sqlite3\n",
    "print(sqlite3.sqlite_version)"
   ]
  },
  {
   "cell_type": "markdown",
   "metadata": {},
   "source": [
    "# Taller Análisis de Insights\n",
    "\n",
    "### Pregunta 1: ¿Cuál es el ingreso total generado por el negocio?"
   ]
  },
  {
   "cell_type": "code",
   "execution_count": null,
   "metadata": {},
   "outputs": [
    {
     "name": "stdout",
     "output_type": "stream",
     "text": [
      "El ingreso total generado por el negocio: 39,854,875.32\n"
     ]
    }
   ],
   "source": [
    "#Conexion a la base de datos\n",
    "conection = sqlite3.connect(\"./analisis/sanoyfresco.db\")\n",
    "\n",
    "# Realizar consulta para obtener el ingreso total generado por el negocio\n",
    "total_sales = pd.read_sql_query(\"\"\"\n",
    "    SELECT SUM(precio_total) AS ingreso_total FROM tickets\n",
    "\"\"\", conection)\n",
    "\n",
    "print(f\"El ingreso total generado por el negocio: {total_sales['ingreso_total'][0]:,.2f}\")\n",
    "\n",
    "# cerrar la conexion\n",
    "conection.close()"
   ]
  },
  {
   "cell_type": "markdown",
   "metadata": {},
   "source": [
    "### Pregunta 2: ¿Cómo ha sido la tendencia de ingresos mensuales? "
   ]
  },
  {
   "cell_type": "code",
   "execution_count": null,
   "metadata": {},
   "outputs": [
    {
     "name": "stdout",
     "output_type": "stream",
     "text": [
      "\n",
      " La tendencia de ingresos mensuales es de:\n",
      "        mes  ingreso_mensuales\n",
      "0   2023-01         6673099.74\n",
      "1   2023-02         4945202.53\n",
      "2   2023-03         4725676.75\n",
      "3   2023-04         3994824.12\n",
      "4   2023-05         3626726.78\n",
      "5   2023-06         3125001.00\n",
      "6   2023-07         2937364.05\n",
      "7   2023-08         2533350.46\n",
      "8   2023-09         2343858.92\n",
      "9   2023-10         2127269.84\n",
      "10  2023-11         1637899.98\n",
      "11  2023-12         1184601.15\n"
     ]
    }
   ],
   "source": [
    "conection = sqlite3.connect(\"./analisis/sanoyfresco.db\")\n",
    "\n",
    "monthly_income_trend = pd.read_sql_query(\"\"\"\n",
    "    SELECT strftime('%Y-%m', fecha) AS mes, SUM(precio_total) AS ingreso_mensuales\n",
    "    FROM tickets\n",
    "    GROUP BY mes\n",
    "    ORDER BY mes\n",
    "\"\"\", conection)\n",
    "\n",
    "print(\"\\n La tendencia de ingresos mensuales es de:\")\n",
    "print(monthly_income_trend)\n",
    "\n",
    "conection.close()"
   ]
  },
  {
   "cell_type": "markdown",
   "metadata": {},
   "source": [
    "### Pregunta 3: ¿Cuál es el rendimiento de cada departamento en términos de ventas?"
   ]
  },
  {
   "cell_type": "code",
   "execution_count": null,
   "metadata": {},
   "outputs": [
    {
     "name": "stdout",
     "output_type": "stream",
     "text": [
      "\n",
      " El rendimiento de cada departamento en términos de ventas es:\n",
      "   id_departamento  ventas_totales\n",
      "0                4     37003251.70\n",
      "1               16      1529354.77\n",
      "2               20       946220.85\n",
      "3                7       376048.00\n"
     ]
    }
   ],
   "source": [
    "conection = sqlite3.connect(\"./analisis/sanoyfresco.db\")\n",
    "\n",
    "department_performance = pd.read_sql_query(\"\"\"\n",
    "    SELECT id_departamento, SUM(precio_total) AS ventas_totales\n",
    "    FROM tickets\n",
    "    GROUP BY id_departamento\n",
    "    ORDER BY ventas_totales DESC\n",
    "\"\"\", conection)\n",
    "\n",
    "print(\"\\n El rendimiento de cada departamento en términos de ventas es:\")\n",
    "print(department_performance)\n",
    "\n",
    "conection.close()"
   ]
  },
  {
   "cell_type": "markdown",
   "metadata": {},
   "source": [
    "### Pregunta 4: ¿Cómo se distribuyen las ventas entre las diferentes secciones?"
   ]
  },
  {
   "cell_type": "code",
   "execution_count": null,
   "metadata": {},
   "outputs": [
    {
     "name": "stdout",
     "output_type": "stream",
     "text": [
      "\n",
      " La distribución de ventas entre las diferentes secciones es:\n",
      "   id_seccion  ventas_totales\n",
      "0          24     20879374.69\n",
      "1         123      8634823.85\n",
      "2          83      7237312.87\n",
      "3          67       946220.85\n",
      "4          53       821420.62\n",
      "5          84       707934.15\n",
      "6         115       376048.00\n",
      "7          16       251740.29\n"
     ]
    }
   ],
   "source": [
    "conection = sqlite3.connect(\"./analisis/sanoyfresco.db\")\n",
    "\n",
    "section_sales_distribution = pd.read_sql_query(\"\"\"\n",
    "    SELECT id_seccion, SUM(precio_total) AS ventas_totales\n",
    "    FROM tickets\n",
    "    GROUP BY id_seccion\n",
    "    ORDER BY ventas_totales DESC\n",
    "\"\"\", conection)\n",
    "\n",
    "print(\"\\n La distribución de ventas entre las diferentes secciones es:\")\n",
    "print(section_sales_distribution)\n",
    "\n",
    "conection.close()"
   ]
  },
  {
   "cell_type": "markdown",
   "metadata": {},
   "source": [
    "### Pregunta 5: ¿Cuáles son los 10 productos más vendidos en cantidad?"
   ]
  },
  {
   "cell_type": "code",
   "execution_count": null,
   "metadata": {},
   "outputs": [
    {
     "name": "stdout",
     "output_type": "stream",
     "text": [
      "\n",
      " Los 10 productos más vendidos en cantidad son:\n",
      "              nombre_producto  cantidad_vendida\n",
      "0                      Banana           2460324\n",
      "1  Bolsa de Bananas Orgánicas           1976709\n",
      "2            Fresas Orgánicas           1381309\n",
      "3    Espinacas Baby Orgánicas           1258330\n",
      "4      Aguacate Hass Orgánico           1104957\n",
      "5           Aguacate Orgánico            923461\n",
      "6                Limón Grande            804752\n",
      "7                      Fresas            748065\n",
      "8                     Limones            733736\n",
      "9       Leche Entera Orgánica            715085\n"
     ]
    }
   ],
   "source": [
    "conection = sqlite3.connect(\"./analisis/sanoyfresco.db\")\n",
    "\n",
    "top_10_products = pd.read_sql_query(\"\"\"\n",
    "    SELECT nombre_producto, SUM(cantidad) AS cantidad_vendida\n",
    "    FROM tickets\n",
    "    GROUP BY nombre_producto\n",
    "    ORDER BY cantidad_vendida DESC\n",
    "    LIMIT 10\n",
    "\"\"\", conection)\n",
    "\n",
    "print(\"\\n Los 10 productos más vendidos en cantidad son:\")\n",
    "print(top_10_products)\n",
    "\n",
    "conection.close()"
   ]
  },
  {
   "cell_type": "markdown",
   "metadata": {},
   "source": [
    "### Pregunta 6: ¿Cuáles son los 10 productos que generan más ingresos?"
   ]
  },
  {
   "cell_type": "code",
   "execution_count": null,
   "metadata": {},
   "outputs": [
    {
     "name": "stdout",
     "output_type": "stream",
     "text": [
      "\n",
      " Los 10 productos que generan mas ingresos son:\n",
      "              nombre_producto    ingresos\n",
      "0  Bolsa de Bananas Orgánicas  4842937.05\n",
      "1            Fresas Orgánicas  3439459.41\n",
      "2                      Banana  2583340.20\n",
      "3        Frambuesas Orgánicas  2032919.25\n",
      "4      Aguacate Hass Orgánico  1977873.03\n",
      "5    Espinacas Baby Orgánicas  1874911.70\n",
      "6           Aguacate Orgánico  1616056.75\n",
      "7                      Fresas  1533533.25\n",
      "8         Arándanos Orgánicos  1444778.50\n",
      "9    Tomates Cherry Orgánicos  1128040.95\n"
     ]
    }
   ],
   "source": [
    "conection = sqlite3.connect(\"./analisis/sanoyfresco.db\")\n",
    "\n",
    "ten_products = pd.read_sql_query(\"\"\"\n",
    "    SELECT nombre_producto, SUM(precio_total) AS ingresos\n",
    "    FROM tickets\n",
    "    GROUP BY nombre_producto\n",
    "    ORDER BY ingresos DESC\n",
    "    LIMIT 10\n",
    "\"\"\", conection)\n",
    "\n",
    "print(\"\\n Los 10 productos que generan mas ingresos son:\")\n",
    "print(ten_products)\n",
    "\n",
    "conection.close()"
   ]
  },
  {
   "cell_type": "markdown",
   "metadata": {},
   "source": [
    "### Pregunta 7: ¿Quiénes son los 20 clientes que más compran en términos de ingresos?"
   ]
  },
  {
   "cell_type": "code",
   "execution_count": null,
   "metadata": {},
   "outputs": [
    {
     "name": "stdout",
     "output_type": "stream",
     "text": [
      "\n",
      " Los 20 clientes que más compran en términos de ingresos son:\n",
      "    id_cliente  ingresos\n",
      "0       189425   4784.44\n",
      "1       145686   4656.01\n",
      "2        95967   4441.07\n",
      "3        67870   4381.49\n",
      "4        51256   4280.17\n",
      "5       108031   4170.37\n",
      "6       105213   4164.07\n",
      "7        66806   4010.08\n",
      "8       153932   3966.09\n",
      "9       143296   3887.86\n",
      "10      175294   3886.68\n",
      "11        1197   3883.76\n",
      "12       62239   3873.40\n",
      "13        5665   3862.69\n",
      "14       31552   3852.53\n",
      "15      132274   3842.65\n",
      "16       14868   3836.05\n",
      "17      103634   3808.71\n",
      "18      132022   3803.13\n",
      "19       94701   3783.81\n"
     ]
    }
   ],
   "source": [
    "conection = sqlite3.connect(\"./analisis/sanoyfresco.db\")\n",
    "\n",
    "top_20_customers = pd.read_sql_query(\"\"\"\n",
    "    SELECT id_cliente, SUM(precio_total) AS ingresos\n",
    "    FROM tickets\n",
    "    GROUP BY id_cliente\n",
    "    ORDER BY ingresos DESC\n",
    "    LIMIT 20\n",
    "\"\"\", conection)\n",
    "\n",
    "print(\"\\n Los 20 clientes que más compran en términos de ingresos son:\")\n",
    "print(top_20_customers)\n",
    "\n",
    "conection.close()"
   ]
  },
  {
   "cell_type": "markdown",
   "metadata": {},
   "source": [
    "### Pregunta 8: ¿Cuál es la compra media por cliente?"
   ]
  },
  {
   "cell_type": "code",
   "execution_count": null,
   "metadata": {},
   "outputs": [
    {
     "name": "stdout",
     "output_type": "stream",
     "text": [
      "\n",
      " La compra media por cliente es: 219.10\n"
     ]
    }
   ],
   "source": [
    "conection = sqlite3.connect(\"./analisis/sanoyfresco.db\")\n",
    "\n",
    "average_purchase_per_customer = pd.read_sql_query(\"\"\"\n",
    "    SELECT AVG(precio_total) AS compra_media\n",
    "    FROM (\n",
    "        SELECT id_cliente, SUM(precio_total) AS precio_total\n",
    "        FROM tickets\n",
    "        GROUP BY id_cliente\n",
    "    )\n",
    "\"\"\", conection)\n",
    "\n",
    "print(f\"\\n La compra media por cliente es: {average_purchase_per_customer['compra_media'][0]:,.2f}\")\n",
    "\n",
    "conection.close()"
   ]
  },
  {
   "cell_type": "markdown",
   "metadata": {},
   "source": [
    "### Pregunta 9: ¿Cuántos pedidos totales se han realizado?"
   ]
  },
  {
   "cell_type": "code",
   "execution_count": null,
   "metadata": {},
   "outputs": [
    {
     "name": "stdout",
     "output_type": "stream",
     "text": [
      "\n",
      " El número total de pedidos realizados es: 2060188\n"
     ]
    }
   ],
   "source": [
    "conection = sqlite3.connect(\"./analisis/sanoyfresco.db\")\n",
    "\n",
    "total_orders = pd.read_sql_query(\"\"\"\n",
    "    SELECT COUNT(DISTINCT id_pedido) AS total_pedidos\n",
    "    FROM tickets\n",
    "\"\"\", conection)\n",
    "\n",
    "print(f\"\\n El número total de pedidos realizados es: {total_orders['total_pedidos'][0]}\")\n",
    "\n",
    "conection.close()"
   ]
  },
  {
   "cell_type": "markdown",
   "metadata": {},
   "source": [
    "### Pregunta 10: ¿Cuál es el valor promedio por pedido?"
   ]
  },
  {
   "cell_type": "code",
   "execution_count": null,
   "metadata": {},
   "outputs": [
    {
     "name": "stdout",
     "output_type": "stream",
     "text": [
      "\n",
      " El valor promedio por pedido es: 19.35\n"
     ]
    }
   ],
   "source": [
    "conection = sqlite3.connect(\"./analisis/sanoyfresco.db\")\n",
    "\n",
    "average_order_value = pd.read_sql_query(\"\"\"\n",
    "    SELECT AVG(precio_total) AS valor_promedio_pedido\n",
    "    FROM (\n",
    "        SELECT id_pedido, SUM(precio_total) AS precio_total\n",
    "        FROM tickets\n",
    "        GROUP BY id_pedido\n",
    "    )\n",
    "\"\"\", conection)\n",
    "\n",
    "print(f\"\\n El valor promedio por pedido es: {average_order_value['valor_promedio_pedido'][0]:,.2f}\")\n",
    "\n",
    "conection.close()"
   ]
  }
 ],
 "metadata": {
  "kernelspec": {
   "display_name": "venv",
   "language": "python",
   "name": "python3"
  },
  "language_info": {
   "codemirror_mode": {
    "name": "ipython",
    "version": 3
   },
   "file_extension": ".py",
   "mimetype": "text/x-python",
   "name": "python",
   "nbconvert_exporter": "python",
   "pygments_lexer": "ipython3",
   "version": "3.13.2"
  }
 },
 "nbformat": 4,
 "nbformat_minor": 2
}
